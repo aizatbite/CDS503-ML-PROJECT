{
  "nbformat": 4,
  "nbformat_minor": 0,
  "metadata": {
    "colab": {
      "provenance": [],
      "include_colab_link": true
    },
    "kernelspec": {
      "display_name": "Python 3",
      "name": "python3"
    },
    "language_info": {
      "name": "python"
    }
  },
  "cells": [
    {
      "cell_type": "markdown",
      "metadata": {
        "id": "view-in-github",
        "colab_type": "text"
      },
      "source": [
        "<a href=\"https://colab.research.google.com/github/aizatbite/CDS503-ML-PROJECT/blob/main/ML_Project_503.ipynb\" target=\"_parent\"><img src=\"https://colab.research.google.com/assets/colab-badge.svg\" alt=\"Open In Colab\"/></a>"
      ]
    },
    {
      "cell_type": "markdown",
      "metadata": {
        "id": "ntpMtzNfRfRw"
      },
      "source": [
        "## Pre Processing"
      ]
    },
    {
      "cell_type": "code",
      "metadata": {
        "id": "OyluO_ooVmfw"
      },
      "source": [
        "import numpy as np\n",
        "import pandas as pd\n",
        "\n",
        "import seaborn as sns \n",
        "import matplotlib.pyplot as plt\n",
        "from sklearn.model_selection import train_test_split\n",
        "from imblearn.over_sampling import SMOTE\n",
        "\n",
        "from sklearn import metrics\n",
        "from sklearn.metrics import classification_report, confusion_matrix\n",
        "\n",
        "from sklearn import preprocessing\n",
        "from sklearn.preprocessing import StandardScaler\n",
        "\n",
        "from sklearn.model_selection import cross_val_score\n",
        "\n",
        "from sklearn.tree import DecisionTreeClassifier\n",
        "from sklearn.neighbors import KNeighborsClassifier\n",
        "from sklearn.dummy import DummyClassifier\n",
        "from sklearn.naive_bayes import GaussianNB\n",
        "from sklearn.naive_bayes import BernoulliNB\n",
        "from sklearn.tree import DecisionTreeClassifier\n",
        "from sklearn.neighbors import KNeighborsClassifier\n",
        "\n",
        "from sklearn.ensemble import BaggingClassifier\n",
        "from sklearn.ensemble import AdaBoostClassifier\n",
        "from sklearn.ensemble import VotingClassifier\n",
        "from sklearn.ensemble import RandomForestClassifier\n",
        "from sklearn.ensemble import StackingClassifier\n",
        "\n",
        "import warnings\n",
        "warnings.filterwarnings('ignore')"
      ],
      "execution_count": null,
      "outputs": []
    },
    {
      "cell_type": "code",
      "metadata": {
        "id": "TAoJV-_-yna0"
      },
      "source": [
        "# from google.colab import drive\n",
        "# drive.mount('/content/drive')"
      ],
      "execution_count": null,
      "outputs": []
    },
    {
      "cell_type": "markdown",
      "metadata": {
        "id": "i8PhHiQFs-fG"
      },
      "source": [
        "# **Data: weatherAUS**"
      ]
    },
    {
      "cell_type": "code",
      "metadata": {
        "colab": {
          "base_uri": "https://localhost:8080/",
          "height": 610
        },
        "id": "X8wfCLjaMAeC",
        "outputId": "f23c194b-6d69-4fc4-95dc-6885d4f808ea"
      },
      "source": [
        "rain = pd.read_csv(\"/content/drive/MyDrive/weatherAUS.csv\")\n",
        "rain"
      ],
      "execution_count": null,
      "outputs": [
        {
          "output_type": "execute_result",
          "data": {
            "text/html": [
              "<div>\n",
              "<style scoped>\n",
              "    .dataframe tbody tr th:only-of-type {\n",
              "        vertical-align: middle;\n",
              "    }\n",
              "\n",
              "    .dataframe tbody tr th {\n",
              "        vertical-align: top;\n",
              "    }\n",
              "\n",
              "    .dataframe thead th {\n",
              "        text-align: right;\n",
              "    }\n",
              "</style>\n",
              "<table border=\"1\" class=\"dataframe\">\n",
              "  <thead>\n",
              "    <tr style=\"text-align: right;\">\n",
              "      <th></th>\n",
              "      <th>Date</th>\n",
              "      <th>Location</th>\n",
              "      <th>MinTemp</th>\n",
              "      <th>MaxTemp</th>\n",
              "      <th>Rainfall</th>\n",
              "      <th>Evaporation</th>\n",
              "      <th>Sunshine</th>\n",
              "      <th>WindGustDir</th>\n",
              "      <th>WindGustSpeed</th>\n",
              "      <th>WindDir9am</th>\n",
              "      <th>WindDir3pm</th>\n",
              "      <th>WindSpeed9am</th>\n",
              "      <th>WindSpeed3pm</th>\n",
              "      <th>Humidity9am</th>\n",
              "      <th>Humidity3pm</th>\n",
              "      <th>Pressure9am</th>\n",
              "      <th>Pressure3pm</th>\n",
              "      <th>Cloud9am</th>\n",
              "      <th>Cloud3pm</th>\n",
              "      <th>Temp9am</th>\n",
              "      <th>Temp3pm</th>\n",
              "      <th>RainToday</th>\n",
              "      <th>RainTomorrow</th>\n",
              "    </tr>\n",
              "  </thead>\n",
              "  <tbody>\n",
              "    <tr>\n",
              "      <th>0</th>\n",
              "      <td>2008-12-01</td>\n",
              "      <td>Albury</td>\n",
              "      <td>13.4</td>\n",
              "      <td>22.9</td>\n",
              "      <td>0.6</td>\n",
              "      <td>NaN</td>\n",
              "      <td>NaN</td>\n",
              "      <td>W</td>\n",
              "      <td>44.0</td>\n",
              "      <td>W</td>\n",
              "      <td>WNW</td>\n",
              "      <td>20.0</td>\n",
              "      <td>24.0</td>\n",
              "      <td>71.0</td>\n",
              "      <td>22.0</td>\n",
              "      <td>1007.7</td>\n",
              "      <td>1007.1</td>\n",
              "      <td>8.0</td>\n",
              "      <td>NaN</td>\n",
              "      <td>16.9</td>\n",
              "      <td>21.8</td>\n",
              "      <td>No</td>\n",
              "      <td>No</td>\n",
              "    </tr>\n",
              "    <tr>\n",
              "      <th>1</th>\n",
              "      <td>2008-12-02</td>\n",
              "      <td>Albury</td>\n",
              "      <td>7.4</td>\n",
              "      <td>25.1</td>\n",
              "      <td>0.0</td>\n",
              "      <td>NaN</td>\n",
              "      <td>NaN</td>\n",
              "      <td>WNW</td>\n",
              "      <td>44.0</td>\n",
              "      <td>NNW</td>\n",
              "      <td>WSW</td>\n",
              "      <td>4.0</td>\n",
              "      <td>22.0</td>\n",
              "      <td>44.0</td>\n",
              "      <td>25.0</td>\n",
              "      <td>1010.6</td>\n",
              "      <td>1007.8</td>\n",
              "      <td>NaN</td>\n",
              "      <td>NaN</td>\n",
              "      <td>17.2</td>\n",
              "      <td>24.3</td>\n",
              "      <td>No</td>\n",
              "      <td>No</td>\n",
              "    </tr>\n",
              "    <tr>\n",
              "      <th>2</th>\n",
              "      <td>2008-12-03</td>\n",
              "      <td>Albury</td>\n",
              "      <td>12.9</td>\n",
              "      <td>25.7</td>\n",
              "      <td>0.0</td>\n",
              "      <td>NaN</td>\n",
              "      <td>NaN</td>\n",
              "      <td>WSW</td>\n",
              "      <td>46.0</td>\n",
              "      <td>W</td>\n",
              "      <td>WSW</td>\n",
              "      <td>19.0</td>\n",
              "      <td>26.0</td>\n",
              "      <td>38.0</td>\n",
              "      <td>30.0</td>\n",
              "      <td>1007.6</td>\n",
              "      <td>1008.7</td>\n",
              "      <td>NaN</td>\n",
              "      <td>2.0</td>\n",
              "      <td>21.0</td>\n",
              "      <td>23.2</td>\n",
              "      <td>No</td>\n",
              "      <td>No</td>\n",
              "    </tr>\n",
              "    <tr>\n",
              "      <th>3</th>\n",
              "      <td>2008-12-04</td>\n",
              "      <td>Albury</td>\n",
              "      <td>9.2</td>\n",
              "      <td>28.0</td>\n",
              "      <td>0.0</td>\n",
              "      <td>NaN</td>\n",
              "      <td>NaN</td>\n",
              "      <td>NE</td>\n",
              "      <td>24.0</td>\n",
              "      <td>SE</td>\n",
              "      <td>E</td>\n",
              "      <td>11.0</td>\n",
              "      <td>9.0</td>\n",
              "      <td>45.0</td>\n",
              "      <td>16.0</td>\n",
              "      <td>1017.6</td>\n",
              "      <td>1012.8</td>\n",
              "      <td>NaN</td>\n",
              "      <td>NaN</td>\n",
              "      <td>18.1</td>\n",
              "      <td>26.5</td>\n",
              "      <td>No</td>\n",
              "      <td>No</td>\n",
              "    </tr>\n",
              "    <tr>\n",
              "      <th>4</th>\n",
              "      <td>2008-12-05</td>\n",
              "      <td>Albury</td>\n",
              "      <td>17.5</td>\n",
              "      <td>32.3</td>\n",
              "      <td>1.0</td>\n",
              "      <td>NaN</td>\n",
              "      <td>NaN</td>\n",
              "      <td>W</td>\n",
              "      <td>41.0</td>\n",
              "      <td>ENE</td>\n",
              "      <td>NW</td>\n",
              "      <td>7.0</td>\n",
              "      <td>20.0</td>\n",
              "      <td>82.0</td>\n",
              "      <td>33.0</td>\n",
              "      <td>1010.8</td>\n",
              "      <td>1006.0</td>\n",
              "      <td>7.0</td>\n",
              "      <td>8.0</td>\n",
              "      <td>17.8</td>\n",
              "      <td>29.7</td>\n",
              "      <td>No</td>\n",
              "      <td>No</td>\n",
              "    </tr>\n",
              "    <tr>\n",
              "      <th>...</th>\n",
              "      <td>...</td>\n",
              "      <td>...</td>\n",
              "      <td>...</td>\n",
              "      <td>...</td>\n",
              "      <td>...</td>\n",
              "      <td>...</td>\n",
              "      <td>...</td>\n",
              "      <td>...</td>\n",
              "      <td>...</td>\n",
              "      <td>...</td>\n",
              "      <td>...</td>\n",
              "      <td>...</td>\n",
              "      <td>...</td>\n",
              "      <td>...</td>\n",
              "      <td>...</td>\n",
              "      <td>...</td>\n",
              "      <td>...</td>\n",
              "      <td>...</td>\n",
              "      <td>...</td>\n",
              "      <td>...</td>\n",
              "      <td>...</td>\n",
              "      <td>...</td>\n",
              "      <td>...</td>\n",
              "    </tr>\n",
              "    <tr>\n",
              "      <th>145455</th>\n",
              "      <td>2017-06-21</td>\n",
              "      <td>Uluru</td>\n",
              "      <td>2.8</td>\n",
              "      <td>23.4</td>\n",
              "      <td>0.0</td>\n",
              "      <td>NaN</td>\n",
              "      <td>NaN</td>\n",
              "      <td>E</td>\n",
              "      <td>31.0</td>\n",
              "      <td>SE</td>\n",
              "      <td>ENE</td>\n",
              "      <td>13.0</td>\n",
              "      <td>11.0</td>\n",
              "      <td>51.0</td>\n",
              "      <td>24.0</td>\n",
              "      <td>1024.6</td>\n",
              "      <td>1020.3</td>\n",
              "      <td>NaN</td>\n",
              "      <td>NaN</td>\n",
              "      <td>10.1</td>\n",
              "      <td>22.4</td>\n",
              "      <td>No</td>\n",
              "      <td>No</td>\n",
              "    </tr>\n",
              "    <tr>\n",
              "      <th>145456</th>\n",
              "      <td>2017-06-22</td>\n",
              "      <td>Uluru</td>\n",
              "      <td>3.6</td>\n",
              "      <td>25.3</td>\n",
              "      <td>0.0</td>\n",
              "      <td>NaN</td>\n",
              "      <td>NaN</td>\n",
              "      <td>NNW</td>\n",
              "      <td>22.0</td>\n",
              "      <td>SE</td>\n",
              "      <td>N</td>\n",
              "      <td>13.0</td>\n",
              "      <td>9.0</td>\n",
              "      <td>56.0</td>\n",
              "      <td>21.0</td>\n",
              "      <td>1023.5</td>\n",
              "      <td>1019.1</td>\n",
              "      <td>NaN</td>\n",
              "      <td>NaN</td>\n",
              "      <td>10.9</td>\n",
              "      <td>24.5</td>\n",
              "      <td>No</td>\n",
              "      <td>No</td>\n",
              "    </tr>\n",
              "    <tr>\n",
              "      <th>145457</th>\n",
              "      <td>2017-06-23</td>\n",
              "      <td>Uluru</td>\n",
              "      <td>5.4</td>\n",
              "      <td>26.9</td>\n",
              "      <td>0.0</td>\n",
              "      <td>NaN</td>\n",
              "      <td>NaN</td>\n",
              "      <td>N</td>\n",
              "      <td>37.0</td>\n",
              "      <td>SE</td>\n",
              "      <td>WNW</td>\n",
              "      <td>9.0</td>\n",
              "      <td>9.0</td>\n",
              "      <td>53.0</td>\n",
              "      <td>24.0</td>\n",
              "      <td>1021.0</td>\n",
              "      <td>1016.8</td>\n",
              "      <td>NaN</td>\n",
              "      <td>NaN</td>\n",
              "      <td>12.5</td>\n",
              "      <td>26.1</td>\n",
              "      <td>No</td>\n",
              "      <td>No</td>\n",
              "    </tr>\n",
              "    <tr>\n",
              "      <th>145458</th>\n",
              "      <td>2017-06-24</td>\n",
              "      <td>Uluru</td>\n",
              "      <td>7.8</td>\n",
              "      <td>27.0</td>\n",
              "      <td>0.0</td>\n",
              "      <td>NaN</td>\n",
              "      <td>NaN</td>\n",
              "      <td>SE</td>\n",
              "      <td>28.0</td>\n",
              "      <td>SSE</td>\n",
              "      <td>N</td>\n",
              "      <td>13.0</td>\n",
              "      <td>7.0</td>\n",
              "      <td>51.0</td>\n",
              "      <td>24.0</td>\n",
              "      <td>1019.4</td>\n",
              "      <td>1016.5</td>\n",
              "      <td>3.0</td>\n",
              "      <td>2.0</td>\n",
              "      <td>15.1</td>\n",
              "      <td>26.0</td>\n",
              "      <td>No</td>\n",
              "      <td>No</td>\n",
              "    </tr>\n",
              "    <tr>\n",
              "      <th>145459</th>\n",
              "      <td>2017-06-25</td>\n",
              "      <td>Uluru</td>\n",
              "      <td>14.9</td>\n",
              "      <td>NaN</td>\n",
              "      <td>0.0</td>\n",
              "      <td>NaN</td>\n",
              "      <td>NaN</td>\n",
              "      <td>NaN</td>\n",
              "      <td>NaN</td>\n",
              "      <td>ESE</td>\n",
              "      <td>ESE</td>\n",
              "      <td>17.0</td>\n",
              "      <td>17.0</td>\n",
              "      <td>62.0</td>\n",
              "      <td>36.0</td>\n",
              "      <td>1020.2</td>\n",
              "      <td>1017.9</td>\n",
              "      <td>8.0</td>\n",
              "      <td>8.0</td>\n",
              "      <td>15.0</td>\n",
              "      <td>20.9</td>\n",
              "      <td>No</td>\n",
              "      <td>NaN</td>\n",
              "    </tr>\n",
              "  </tbody>\n",
              "</table>\n",
              "<p>145460 rows × 23 columns</p>\n",
              "</div>"
            ],
            "text/plain": [
              "              Date Location  MinTemp  ...  Temp3pm  RainToday  RainTomorrow\n",
              "0       2008-12-01   Albury     13.4  ...     21.8         No            No\n",
              "1       2008-12-02   Albury      7.4  ...     24.3         No            No\n",
              "2       2008-12-03   Albury     12.9  ...     23.2         No            No\n",
              "3       2008-12-04   Albury      9.2  ...     26.5         No            No\n",
              "4       2008-12-05   Albury     17.5  ...     29.7         No            No\n",
              "...            ...      ...      ...  ...      ...        ...           ...\n",
              "145455  2017-06-21    Uluru      2.8  ...     22.4         No            No\n",
              "145456  2017-06-22    Uluru      3.6  ...     24.5         No            No\n",
              "145457  2017-06-23    Uluru      5.4  ...     26.1         No            No\n",
              "145458  2017-06-24    Uluru      7.8  ...     26.0         No            No\n",
              "145459  2017-06-25    Uluru     14.9  ...     20.9         No           NaN\n",
              "\n",
              "[145460 rows x 23 columns]"
            ]
          },
          "metadata": {
            "tags": []
          },
          "execution_count": 113
        }
      ]
    },
    {
      "cell_type": "code",
      "metadata": {
        "id": "5vOe09EeCKUY",
        "colab": {
          "base_uri": "https://localhost:8080/",
          "height": 610
        },
        "outputId": "95cf2182-63a1-4595-9ca5-5155e101f2ce"
      },
      "source": [
        "#Creating subset\n",
        "rain_new=rain.iloc[0:50000] # first 50k\n",
        "rain_new"
      ],
      "execution_count": null,
      "outputs": [
        {
          "output_type": "execute_result",
          "data": {
            "text/html": [
              "<div>\n",
              "<style scoped>\n",
              "    .dataframe tbody tr th:only-of-type {\n",
              "        vertical-align: middle;\n",
              "    }\n",
              "\n",
              "    .dataframe tbody tr th {\n",
              "        vertical-align: top;\n",
              "    }\n",
              "\n",
              "    .dataframe thead th {\n",
              "        text-align: right;\n",
              "    }\n",
              "</style>\n",
              "<table border=\"1\" class=\"dataframe\">\n",
              "  <thead>\n",
              "    <tr style=\"text-align: right;\">\n",
              "      <th></th>\n",
              "      <th>Date</th>\n",
              "      <th>Location</th>\n",
              "      <th>MinTemp</th>\n",
              "      <th>MaxTemp</th>\n",
              "      <th>Rainfall</th>\n",
              "      <th>Evaporation</th>\n",
              "      <th>Sunshine</th>\n",
              "      <th>WindGustDir</th>\n",
              "      <th>WindGustSpeed</th>\n",
              "      <th>WindDir9am</th>\n",
              "      <th>WindDir3pm</th>\n",
              "      <th>WindSpeed9am</th>\n",
              "      <th>WindSpeed3pm</th>\n",
              "      <th>Humidity9am</th>\n",
              "      <th>Humidity3pm</th>\n",
              "      <th>Pressure9am</th>\n",
              "      <th>Pressure3pm</th>\n",
              "      <th>Cloud9am</th>\n",
              "      <th>Cloud3pm</th>\n",
              "      <th>Temp9am</th>\n",
              "      <th>Temp3pm</th>\n",
              "      <th>RainToday</th>\n",
              "      <th>RainTomorrow</th>\n",
              "    </tr>\n",
              "  </thead>\n",
              "  <tbody>\n",
              "    <tr>\n",
              "      <th>0</th>\n",
              "      <td>2008-12-01</td>\n",
              "      <td>Albury</td>\n",
              "      <td>13.4</td>\n",
              "      <td>22.9</td>\n",
              "      <td>0.6</td>\n",
              "      <td>NaN</td>\n",
              "      <td>NaN</td>\n",
              "      <td>W</td>\n",
              "      <td>44.0</td>\n",
              "      <td>W</td>\n",
              "      <td>WNW</td>\n",
              "      <td>20.0</td>\n",
              "      <td>24.0</td>\n",
              "      <td>71.0</td>\n",
              "      <td>22.0</td>\n",
              "      <td>1007.7</td>\n",
              "      <td>1007.1</td>\n",
              "      <td>8.0</td>\n",
              "      <td>NaN</td>\n",
              "      <td>16.9</td>\n",
              "      <td>21.8</td>\n",
              "      <td>No</td>\n",
              "      <td>No</td>\n",
              "    </tr>\n",
              "    <tr>\n",
              "      <th>1</th>\n",
              "      <td>2008-12-02</td>\n",
              "      <td>Albury</td>\n",
              "      <td>7.4</td>\n",
              "      <td>25.1</td>\n",
              "      <td>0.0</td>\n",
              "      <td>NaN</td>\n",
              "      <td>NaN</td>\n",
              "      <td>WNW</td>\n",
              "      <td>44.0</td>\n",
              "      <td>NNW</td>\n",
              "      <td>WSW</td>\n",
              "      <td>4.0</td>\n",
              "      <td>22.0</td>\n",
              "      <td>44.0</td>\n",
              "      <td>25.0</td>\n",
              "      <td>1010.6</td>\n",
              "      <td>1007.8</td>\n",
              "      <td>NaN</td>\n",
              "      <td>NaN</td>\n",
              "      <td>17.2</td>\n",
              "      <td>24.3</td>\n",
              "      <td>No</td>\n",
              "      <td>No</td>\n",
              "    </tr>\n",
              "    <tr>\n",
              "      <th>2</th>\n",
              "      <td>2008-12-03</td>\n",
              "      <td>Albury</td>\n",
              "      <td>12.9</td>\n",
              "      <td>25.7</td>\n",
              "      <td>0.0</td>\n",
              "      <td>NaN</td>\n",
              "      <td>NaN</td>\n",
              "      <td>WSW</td>\n",
              "      <td>46.0</td>\n",
              "      <td>W</td>\n",
              "      <td>WSW</td>\n",
              "      <td>19.0</td>\n",
              "      <td>26.0</td>\n",
              "      <td>38.0</td>\n",
              "      <td>30.0</td>\n",
              "      <td>1007.6</td>\n",
              "      <td>1008.7</td>\n",
              "      <td>NaN</td>\n",
              "      <td>2.0</td>\n",
              "      <td>21.0</td>\n",
              "      <td>23.2</td>\n",
              "      <td>No</td>\n",
              "      <td>No</td>\n",
              "    </tr>\n",
              "    <tr>\n",
              "      <th>3</th>\n",
              "      <td>2008-12-04</td>\n",
              "      <td>Albury</td>\n",
              "      <td>9.2</td>\n",
              "      <td>28.0</td>\n",
              "      <td>0.0</td>\n",
              "      <td>NaN</td>\n",
              "      <td>NaN</td>\n",
              "      <td>NE</td>\n",
              "      <td>24.0</td>\n",
              "      <td>SE</td>\n",
              "      <td>E</td>\n",
              "      <td>11.0</td>\n",
              "      <td>9.0</td>\n",
              "      <td>45.0</td>\n",
              "      <td>16.0</td>\n",
              "      <td>1017.6</td>\n",
              "      <td>1012.8</td>\n",
              "      <td>NaN</td>\n",
              "      <td>NaN</td>\n",
              "      <td>18.1</td>\n",
              "      <td>26.5</td>\n",
              "      <td>No</td>\n",
              "      <td>No</td>\n",
              "    </tr>\n",
              "    <tr>\n",
              "      <th>4</th>\n",
              "      <td>2008-12-05</td>\n",
              "      <td>Albury</td>\n",
              "      <td>17.5</td>\n",
              "      <td>32.3</td>\n",
              "      <td>1.0</td>\n",
              "      <td>NaN</td>\n",
              "      <td>NaN</td>\n",
              "      <td>W</td>\n",
              "      <td>41.0</td>\n",
              "      <td>ENE</td>\n",
              "      <td>NW</td>\n",
              "      <td>7.0</td>\n",
              "      <td>20.0</td>\n",
              "      <td>82.0</td>\n",
              "      <td>33.0</td>\n",
              "      <td>1010.8</td>\n",
              "      <td>1006.0</td>\n",
              "      <td>7.0</td>\n",
              "      <td>8.0</td>\n",
              "      <td>17.8</td>\n",
              "      <td>29.7</td>\n",
              "      <td>No</td>\n",
              "      <td>No</td>\n",
              "    </tr>\n",
              "    <tr>\n",
              "      <th>...</th>\n",
              "      <td>...</td>\n",
              "      <td>...</td>\n",
              "      <td>...</td>\n",
              "      <td>...</td>\n",
              "      <td>...</td>\n",
              "      <td>...</td>\n",
              "      <td>...</td>\n",
              "      <td>...</td>\n",
              "      <td>...</td>\n",
              "      <td>...</td>\n",
              "      <td>...</td>\n",
              "      <td>...</td>\n",
              "      <td>...</td>\n",
              "      <td>...</td>\n",
              "      <td>...</td>\n",
              "      <td>...</td>\n",
              "      <td>...</td>\n",
              "      <td>...</td>\n",
              "      <td>...</td>\n",
              "      <td>...</td>\n",
              "      <td>...</td>\n",
              "      <td>...</td>\n",
              "      <td>...</td>\n",
              "    </tr>\n",
              "    <tr>\n",
              "      <th>49995</th>\n",
              "      <td>2011-08-30</td>\n",
              "      <td>Tuggeranong</td>\n",
              "      <td>4.3</td>\n",
              "      <td>16.0</td>\n",
              "      <td>0.0</td>\n",
              "      <td>NaN</td>\n",
              "      <td>NaN</td>\n",
              "      <td>N</td>\n",
              "      <td>28.0</td>\n",
              "      <td>NaN</td>\n",
              "      <td>N</td>\n",
              "      <td>0.0</td>\n",
              "      <td>11.0</td>\n",
              "      <td>76.0</td>\n",
              "      <td>42.0</td>\n",
              "      <td>1024.1</td>\n",
              "      <td>1021.0</td>\n",
              "      <td>NaN</td>\n",
              "      <td>NaN</td>\n",
              "      <td>8.4</td>\n",
              "      <td>15.0</td>\n",
              "      <td>No</td>\n",
              "      <td>No</td>\n",
              "    </tr>\n",
              "    <tr>\n",
              "      <th>49996</th>\n",
              "      <td>2011-08-31</td>\n",
              "      <td>Tuggeranong</td>\n",
              "      <td>1.2</td>\n",
              "      <td>17.0</td>\n",
              "      <td>0.0</td>\n",
              "      <td>NaN</td>\n",
              "      <td>NaN</td>\n",
              "      <td>NE</td>\n",
              "      <td>28.0</td>\n",
              "      <td>WNW</td>\n",
              "      <td>N</td>\n",
              "      <td>4.0</td>\n",
              "      <td>15.0</td>\n",
              "      <td>73.0</td>\n",
              "      <td>49.0</td>\n",
              "      <td>1025.3</td>\n",
              "      <td>1021.8</td>\n",
              "      <td>NaN</td>\n",
              "      <td>NaN</td>\n",
              "      <td>8.1</td>\n",
              "      <td>16.3</td>\n",
              "      <td>No</td>\n",
              "      <td>No</td>\n",
              "    </tr>\n",
              "    <tr>\n",
              "      <th>49997</th>\n",
              "      <td>2011-09-01</td>\n",
              "      <td>Tuggeranong</td>\n",
              "      <td>3.9</td>\n",
              "      <td>18.7</td>\n",
              "      <td>0.0</td>\n",
              "      <td>NaN</td>\n",
              "      <td>NaN</td>\n",
              "      <td>ESE</td>\n",
              "      <td>24.0</td>\n",
              "      <td>NW</td>\n",
              "      <td>ESE</td>\n",
              "      <td>4.0</td>\n",
              "      <td>11.0</td>\n",
              "      <td>69.0</td>\n",
              "      <td>31.0</td>\n",
              "      <td>1025.0</td>\n",
              "      <td>1022.0</td>\n",
              "      <td>NaN</td>\n",
              "      <td>NaN</td>\n",
              "      <td>10.9</td>\n",
              "      <td>18.4</td>\n",
              "      <td>No</td>\n",
              "      <td>No</td>\n",
              "    </tr>\n",
              "    <tr>\n",
              "      <th>49998</th>\n",
              "      <td>2011-09-02</td>\n",
              "      <td>Tuggeranong</td>\n",
              "      <td>1.3</td>\n",
              "      <td>16.4</td>\n",
              "      <td>0.0</td>\n",
              "      <td>NaN</td>\n",
              "      <td>NaN</td>\n",
              "      <td>SSW</td>\n",
              "      <td>28.0</td>\n",
              "      <td>S</td>\n",
              "      <td>E</td>\n",
              "      <td>13.0</td>\n",
              "      <td>9.0</td>\n",
              "      <td>57.0</td>\n",
              "      <td>40.0</td>\n",
              "      <td>1030.6</td>\n",
              "      <td>1027.0</td>\n",
              "      <td>NaN</td>\n",
              "      <td>NaN</td>\n",
              "      <td>8.7</td>\n",
              "      <td>15.9</td>\n",
              "      <td>No</td>\n",
              "      <td>No</td>\n",
              "    </tr>\n",
              "    <tr>\n",
              "      <th>49999</th>\n",
              "      <td>2011-09-03</td>\n",
              "      <td>Tuggeranong</td>\n",
              "      <td>-2.7</td>\n",
              "      <td>18.5</td>\n",
              "      <td>0.0</td>\n",
              "      <td>NaN</td>\n",
              "      <td>NaN</td>\n",
              "      <td>N</td>\n",
              "      <td>24.0</td>\n",
              "      <td>W</td>\n",
              "      <td>NNW</td>\n",
              "      <td>4.0</td>\n",
              "      <td>13.0</td>\n",
              "      <td>76.0</td>\n",
              "      <td>30.0</td>\n",
              "      <td>1030.1</td>\n",
              "      <td>1025.2</td>\n",
              "      <td>NaN</td>\n",
              "      <td>NaN</td>\n",
              "      <td>7.1</td>\n",
              "      <td>18.0</td>\n",
              "      <td>No</td>\n",
              "      <td>No</td>\n",
              "    </tr>\n",
              "  </tbody>\n",
              "</table>\n",
              "<p>50000 rows × 23 columns</p>\n",
              "</div>"
            ],
            "text/plain": [
              "             Date     Location  MinTemp  ...  Temp3pm  RainToday  RainTomorrow\n",
              "0      2008-12-01       Albury     13.4  ...     21.8         No            No\n",
              "1      2008-12-02       Albury      7.4  ...     24.3         No            No\n",
              "2      2008-12-03       Albury     12.9  ...     23.2         No            No\n",
              "3      2008-12-04       Albury      9.2  ...     26.5         No            No\n",
              "4      2008-12-05       Albury     17.5  ...     29.7         No            No\n",
              "...           ...          ...      ...  ...      ...        ...           ...\n",
              "49995  2011-08-30  Tuggeranong      4.3  ...     15.0         No            No\n",
              "49996  2011-08-31  Tuggeranong      1.2  ...     16.3         No            No\n",
              "49997  2011-09-01  Tuggeranong      3.9  ...     18.4         No            No\n",
              "49998  2011-09-02  Tuggeranong      1.3  ...     15.9         No            No\n",
              "49999  2011-09-03  Tuggeranong     -2.7  ...     18.0         No            No\n",
              "\n",
              "[50000 rows x 23 columns]"
            ]
          },
          "metadata": {
            "tags": []
          },
          "execution_count": 114
        }
      ]
    },
    {
      "cell_type": "code",
      "metadata": {
        "id": "VvBHkWRMN2Td",
        "colab": {
          "base_uri": "https://localhost:8080/"
        },
        "outputId": "bc270500-e928-46cc-9e89-1521b5f56b89"
      },
      "source": [
        "# View the number of rows and columns\n",
        "rain_new.shape"
      ],
      "execution_count": null,
      "outputs": [
        {
          "output_type": "execute_result",
          "data": {
            "text/plain": [
              "(50000, 23)"
            ]
          },
          "metadata": {
            "tags": []
          },
          "execution_count": 115
        }
      ]
    },
    {
      "cell_type": "markdown",
      "metadata": {
        "id": "fgvlm7ioUKgO"
      },
      "source": [
        "Drop columns that have high NaN values and delete rows with NaN"
      ]
    },
    {
      "cell_type": "code",
      "metadata": {
        "id": "giv_ub6vOjoW",
        "colab": {
          "base_uri": "https://localhost:8080/",
          "height": 420
        },
        "outputId": "3bc6afc9-3b44-4c79-96a3-741fa2ec2100"
      },
      "source": [
        "#Drop column\n",
        "#Date&Location considered id, other than that because of high null values\n",
        "rain_new = rain_new.drop(['Evaporation', 'Sunshine', 'Cloud9am', 'Cloud3pm', 'Date', 'Location'],  axis = 1)\n",
        "#delete rows with null values\n",
        "rain_new.dropna(inplace=True)\n",
        "rain_new"
      ],
      "execution_count": null,
      "outputs": [
        {
          "output_type": "execute_result",
          "data": {
            "text/html": [
              "<div>\n",
              "<style scoped>\n",
              "    .dataframe tbody tr th:only-of-type {\n",
              "        vertical-align: middle;\n",
              "    }\n",
              "\n",
              "    .dataframe tbody tr th {\n",
              "        vertical-align: top;\n",
              "    }\n",
              "\n",
              "    .dataframe thead th {\n",
              "        text-align: right;\n",
              "    }\n",
              "</style>\n",
              "<table border=\"1\" class=\"dataframe\">\n",
              "  <thead>\n",
              "    <tr style=\"text-align: right;\">\n",
              "      <th></th>\n",
              "      <th>MinTemp</th>\n",
              "      <th>MaxTemp</th>\n",
              "      <th>Rainfall</th>\n",
              "      <th>WindGustDir</th>\n",
              "      <th>WindGustSpeed</th>\n",
              "      <th>WindDir9am</th>\n",
              "      <th>WindDir3pm</th>\n",
              "      <th>WindSpeed9am</th>\n",
              "      <th>WindSpeed3pm</th>\n",
              "      <th>Humidity9am</th>\n",
              "      <th>Humidity3pm</th>\n",
              "      <th>Pressure9am</th>\n",
              "      <th>Pressure3pm</th>\n",
              "      <th>Temp9am</th>\n",
              "      <th>Temp3pm</th>\n",
              "      <th>RainToday</th>\n",
              "      <th>RainTomorrow</th>\n",
              "    </tr>\n",
              "  </thead>\n",
              "  <tbody>\n",
              "    <tr>\n",
              "      <th>0</th>\n",
              "      <td>13.4</td>\n",
              "      <td>22.9</td>\n",
              "      <td>0.6</td>\n",
              "      <td>W</td>\n",
              "      <td>44.0</td>\n",
              "      <td>W</td>\n",
              "      <td>WNW</td>\n",
              "      <td>20.0</td>\n",
              "      <td>24.0</td>\n",
              "      <td>71.0</td>\n",
              "      <td>22.0</td>\n",
              "      <td>1007.7</td>\n",
              "      <td>1007.1</td>\n",
              "      <td>16.9</td>\n",
              "      <td>21.8</td>\n",
              "      <td>No</td>\n",
              "      <td>No</td>\n",
              "    </tr>\n",
              "    <tr>\n",
              "      <th>1</th>\n",
              "      <td>7.4</td>\n",
              "      <td>25.1</td>\n",
              "      <td>0.0</td>\n",
              "      <td>WNW</td>\n",
              "      <td>44.0</td>\n",
              "      <td>NNW</td>\n",
              "      <td>WSW</td>\n",
              "      <td>4.0</td>\n",
              "      <td>22.0</td>\n",
              "      <td>44.0</td>\n",
              "      <td>25.0</td>\n",
              "      <td>1010.6</td>\n",
              "      <td>1007.8</td>\n",
              "      <td>17.2</td>\n",
              "      <td>24.3</td>\n",
              "      <td>No</td>\n",
              "      <td>No</td>\n",
              "    </tr>\n",
              "    <tr>\n",
              "      <th>2</th>\n",
              "      <td>12.9</td>\n",
              "      <td>25.7</td>\n",
              "      <td>0.0</td>\n",
              "      <td>WSW</td>\n",
              "      <td>46.0</td>\n",
              "      <td>W</td>\n",
              "      <td>WSW</td>\n",
              "      <td>19.0</td>\n",
              "      <td>26.0</td>\n",
              "      <td>38.0</td>\n",
              "      <td>30.0</td>\n",
              "      <td>1007.6</td>\n",
              "      <td>1008.7</td>\n",
              "      <td>21.0</td>\n",
              "      <td>23.2</td>\n",
              "      <td>No</td>\n",
              "      <td>No</td>\n",
              "    </tr>\n",
              "    <tr>\n",
              "      <th>3</th>\n",
              "      <td>9.2</td>\n",
              "      <td>28.0</td>\n",
              "      <td>0.0</td>\n",
              "      <td>NE</td>\n",
              "      <td>24.0</td>\n",
              "      <td>SE</td>\n",
              "      <td>E</td>\n",
              "      <td>11.0</td>\n",
              "      <td>9.0</td>\n",
              "      <td>45.0</td>\n",
              "      <td>16.0</td>\n",
              "      <td>1017.6</td>\n",
              "      <td>1012.8</td>\n",
              "      <td>18.1</td>\n",
              "      <td>26.5</td>\n",
              "      <td>No</td>\n",
              "      <td>No</td>\n",
              "    </tr>\n",
              "    <tr>\n",
              "      <th>4</th>\n",
              "      <td>17.5</td>\n",
              "      <td>32.3</td>\n",
              "      <td>1.0</td>\n",
              "      <td>W</td>\n",
              "      <td>41.0</td>\n",
              "      <td>ENE</td>\n",
              "      <td>NW</td>\n",
              "      <td>7.0</td>\n",
              "      <td>20.0</td>\n",
              "      <td>82.0</td>\n",
              "      <td>33.0</td>\n",
              "      <td>1010.8</td>\n",
              "      <td>1006.0</td>\n",
              "      <td>17.8</td>\n",
              "      <td>29.7</td>\n",
              "      <td>No</td>\n",
              "      <td>No</td>\n",
              "    </tr>\n",
              "    <tr>\n",
              "      <th>...</th>\n",
              "      <td>...</td>\n",
              "      <td>...</td>\n",
              "      <td>...</td>\n",
              "      <td>...</td>\n",
              "      <td>...</td>\n",
              "      <td>...</td>\n",
              "      <td>...</td>\n",
              "      <td>...</td>\n",
              "      <td>...</td>\n",
              "      <td>...</td>\n",
              "      <td>...</td>\n",
              "      <td>...</td>\n",
              "      <td>...</td>\n",
              "      <td>...</td>\n",
              "      <td>...</td>\n",
              "      <td>...</td>\n",
              "      <td>...</td>\n",
              "    </tr>\n",
              "    <tr>\n",
              "      <th>49994</th>\n",
              "      <td>2.9</td>\n",
              "      <td>17.3</td>\n",
              "      <td>0.0</td>\n",
              "      <td>WNW</td>\n",
              "      <td>35.0</td>\n",
              "      <td>N</td>\n",
              "      <td>WNW</td>\n",
              "      <td>13.0</td>\n",
              "      <td>22.0</td>\n",
              "      <td>56.0</td>\n",
              "      <td>38.0</td>\n",
              "      <td>1018.9</td>\n",
              "      <td>1017.4</td>\n",
              "      <td>11.3</td>\n",
              "      <td>15.8</td>\n",
              "      <td>No</td>\n",
              "      <td>No</td>\n",
              "    </tr>\n",
              "    <tr>\n",
              "      <th>49996</th>\n",
              "      <td>1.2</td>\n",
              "      <td>17.0</td>\n",
              "      <td>0.0</td>\n",
              "      <td>NE</td>\n",
              "      <td>28.0</td>\n",
              "      <td>WNW</td>\n",
              "      <td>N</td>\n",
              "      <td>4.0</td>\n",
              "      <td>15.0</td>\n",
              "      <td>73.0</td>\n",
              "      <td>49.0</td>\n",
              "      <td>1025.3</td>\n",
              "      <td>1021.8</td>\n",
              "      <td>8.1</td>\n",
              "      <td>16.3</td>\n",
              "      <td>No</td>\n",
              "      <td>No</td>\n",
              "    </tr>\n",
              "    <tr>\n",
              "      <th>49997</th>\n",
              "      <td>3.9</td>\n",
              "      <td>18.7</td>\n",
              "      <td>0.0</td>\n",
              "      <td>ESE</td>\n",
              "      <td>24.0</td>\n",
              "      <td>NW</td>\n",
              "      <td>ESE</td>\n",
              "      <td>4.0</td>\n",
              "      <td>11.0</td>\n",
              "      <td>69.0</td>\n",
              "      <td>31.0</td>\n",
              "      <td>1025.0</td>\n",
              "      <td>1022.0</td>\n",
              "      <td>10.9</td>\n",
              "      <td>18.4</td>\n",
              "      <td>No</td>\n",
              "      <td>No</td>\n",
              "    </tr>\n",
              "    <tr>\n",
              "      <th>49998</th>\n",
              "      <td>1.3</td>\n",
              "      <td>16.4</td>\n",
              "      <td>0.0</td>\n",
              "      <td>SSW</td>\n",
              "      <td>28.0</td>\n",
              "      <td>S</td>\n",
              "      <td>E</td>\n",
              "      <td>13.0</td>\n",
              "      <td>9.0</td>\n",
              "      <td>57.0</td>\n",
              "      <td>40.0</td>\n",
              "      <td>1030.6</td>\n",
              "      <td>1027.0</td>\n",
              "      <td>8.7</td>\n",
              "      <td>15.9</td>\n",
              "      <td>No</td>\n",
              "      <td>No</td>\n",
              "    </tr>\n",
              "    <tr>\n",
              "      <th>49999</th>\n",
              "      <td>-2.7</td>\n",
              "      <td>18.5</td>\n",
              "      <td>0.0</td>\n",
              "      <td>N</td>\n",
              "      <td>24.0</td>\n",
              "      <td>W</td>\n",
              "      <td>NNW</td>\n",
              "      <td>4.0</td>\n",
              "      <td>13.0</td>\n",
              "      <td>76.0</td>\n",
              "      <td>30.0</td>\n",
              "      <td>1030.1</td>\n",
              "      <td>1025.2</td>\n",
              "      <td>7.1</td>\n",
              "      <td>18.0</td>\n",
              "      <td>No</td>\n",
              "      <td>No</td>\n",
              "    </tr>\n",
              "  </tbody>\n",
              "</table>\n",
              "<p>36838 rows × 17 columns</p>\n",
              "</div>"
            ],
            "text/plain": [
              "       MinTemp  MaxTemp  Rainfall  ... Temp3pm  RainToday RainTomorrow\n",
              "0         13.4     22.9       0.6  ...    21.8         No           No\n",
              "1          7.4     25.1       0.0  ...    24.3         No           No\n",
              "2         12.9     25.7       0.0  ...    23.2         No           No\n",
              "3          9.2     28.0       0.0  ...    26.5         No           No\n",
              "4         17.5     32.3       1.0  ...    29.7         No           No\n",
              "...        ...      ...       ...  ...     ...        ...          ...\n",
              "49994      2.9     17.3       0.0  ...    15.8         No           No\n",
              "49996      1.2     17.0       0.0  ...    16.3         No           No\n",
              "49997      3.9     18.7       0.0  ...    18.4         No           No\n",
              "49998      1.3     16.4       0.0  ...    15.9         No           No\n",
              "49999     -2.7     18.5       0.0  ...    18.0         No           No\n",
              "\n",
              "[36838 rows x 17 columns]"
            ]
          },
          "metadata": {
            "tags": []
          },
          "execution_count": 116
        }
      ]
    },
    {
      "cell_type": "code",
      "metadata": {
        "id": "-2px0D2V-onu",
        "colab": {
          "base_uri": "https://localhost:8080/"
        },
        "outputId": "38e43188-9203-4f16-d134-e024015f7976"
      },
      "source": [
        "rain_new.dtypes"
      ],
      "execution_count": null,
      "outputs": [
        {
          "output_type": "execute_result",
          "data": {
            "text/plain": [
              "MinTemp          float64\n",
              "MaxTemp          float64\n",
              "Rainfall         float64\n",
              "WindGustDir       object\n",
              "WindGustSpeed    float64\n",
              "WindDir9am        object\n",
              "WindDir3pm        object\n",
              "WindSpeed9am     float64\n",
              "WindSpeed3pm     float64\n",
              "Humidity9am      float64\n",
              "Humidity3pm      float64\n",
              "Pressure9am      float64\n",
              "Pressure3pm      float64\n",
              "Temp9am          float64\n",
              "Temp3pm          float64\n",
              "RainToday         object\n",
              "RainTomorrow      object\n",
              "dtype: object"
            ]
          },
          "metadata": {
            "tags": []
          },
          "execution_count": 117
        }
      ]
    },
    {
      "cell_type": "code",
      "metadata": {
        "id": "8BPrGclxTTuD",
        "colab": {
          "base_uri": "https://localhost:8080/"
        },
        "outputId": "70550036-d9f3-4782-ddd6-5acd6882723b"
      },
      "source": [
        "#Checking null values\n",
        "rain_new.isnull().sum()"
      ],
      "execution_count": null,
      "outputs": [
        {
          "output_type": "execute_result",
          "data": {
            "text/plain": [
              "MinTemp          0\n",
              "MaxTemp          0\n",
              "Rainfall         0\n",
              "WindGustDir      0\n",
              "WindGustSpeed    0\n",
              "WindDir9am       0\n",
              "WindDir3pm       0\n",
              "WindSpeed9am     0\n",
              "WindSpeed3pm     0\n",
              "Humidity9am      0\n",
              "Humidity3pm      0\n",
              "Pressure9am      0\n",
              "Pressure3pm      0\n",
              "Temp9am          0\n",
              "Temp3pm          0\n",
              "RainToday        0\n",
              "RainTomorrow     0\n",
              "dtype: int64"
            ]
          },
          "metadata": {
            "tags": []
          },
          "execution_count": 118
        }
      ]
    },
    {
      "cell_type": "markdown",
      "metadata": {
        "id": "bRIQAZG-jMjN"
      },
      "source": [
        "Null values are cleared"
      ]
    },
    {
      "cell_type": "markdown",
      "metadata": {
        "id": "8tg9WjNcU5hz"
      },
      "source": [
        "Removing Outliers"
      ]
    },
    {
      "cell_type": "code",
      "metadata": {
        "id": "t4iekunGhVSx",
        "colab": {
          "base_uri": "https://localhost:8080/"
        },
        "outputId": "7ece430a-d64a-441b-d081-4768075c5954"
      },
      "source": [
        "# Detecting outliers with IQR\n",
        "Q1 = rain_new.quantile(0.25)\n",
        "Q3 = rain_new.quantile(0.75)\n",
        "IQR = Q3 - Q1\n",
        "print(IQR)"
      ],
      "execution_count": null,
      "outputs": [
        {
          "output_type": "stream",
          "text": [
            "MinTemp           8.8\n",
            "MaxTemp           8.1\n",
            "Rainfall          0.8\n",
            "WindGustSpeed    17.0\n",
            "WindSpeed9am     11.0\n",
            "WindSpeed3pm     11.0\n",
            "Humidity9am      24.0\n",
            "Humidity3pm      31.0\n",
            "Pressure9am       9.0\n",
            "Pressure3pm       9.0\n",
            "Temp9am           7.7\n",
            "Temp3pm           7.8\n",
            "dtype: float64\n"
          ],
          "name": "stdout"
        }
      ]
    },
    {
      "cell_type": "code",
      "metadata": {
        "id": "xJyxzZGbhfFi",
        "colab": {
          "base_uri": "https://localhost:8080/"
        },
        "outputId": "2bb07f21-7a05-4230-b9b1-16cca9246392"
      },
      "source": [
        "# Removing outliers from dataset\n",
        "rain_new = rain_new[~((rain_new < (Q1 - 1.5 * IQR)) |(rain_new > (Q3 + 1.5 * IQR))).any(axis=1)]\n",
        "rain_new.shape"
      ],
      "execution_count": null,
      "outputs": [
        {
          "output_type": "execute_result",
          "data": {
            "text/plain": [
              "(27849, 17)"
            ]
          },
          "metadata": {
            "tags": []
          },
          "execution_count": 120
        }
      ]
    },
    {
      "cell_type": "markdown",
      "metadata": {
        "id": "nbZQ3lpkiLHX"
      },
      "source": [
        "Number of rows dropped from 10000 to 6508 after removing unnecessary columns, removing null values & outliers"
      ]
    },
    {
      "cell_type": "markdown",
      "metadata": {
        "id": "jhV9x_YbU-rT"
      },
      "source": [
        "Change non numerical to numerical so ML model able to read"
      ]
    },
    {
      "cell_type": "code",
      "metadata": {
        "id": "8XMJgbdfN1Jg",
        "colab": {
          "base_uri": "https://localhost:8080/",
          "height": 932
        },
        "outputId": "e6971f4f-7fc9-489b-9b49-64b28e32cbf4"
      },
      "source": [
        "# Create LabelEncoder\n",
        "le = preprocessing.LabelEncoder()\n",
        "# Convert string categories into numbers for RainToday and RainTomorrow\n",
        "rain_new['RainToday'] = le.fit_transform(rain_new['RainToday'])\n",
        "rain_new['RainTomorrow'] = le.fit_transform(rain_new['RainTomorrow'])\n",
        "rain_new['WindGustDir'] = le.fit_transform(rain_new['WindGustDir'])\n",
        "rain_new['WindDir9am'] = le.fit_transform(rain_new['WindDir9am'])\n",
        "rain_new['WindDir3pm'] = le.fit_transform(rain_new['WindDir3pm'])\n",
        "rain_new"
      ],
      "execution_count": null,
      "outputs": [
        {
          "output_type": "stream",
          "text": [
            "/usr/local/lib/python3.7/dist-packages/ipykernel_launcher.py:4: SettingWithCopyWarning: \n",
            "A value is trying to be set on a copy of a slice from a DataFrame.\n",
            "Try using .loc[row_indexer,col_indexer] = value instead\n",
            "\n",
            "See the caveats in the documentation: https://pandas.pydata.org/pandas-docs/stable/user_guide/indexing.html#returning-a-view-versus-a-copy\n",
            "  after removing the cwd from sys.path.\n",
            "/usr/local/lib/python3.7/dist-packages/ipykernel_launcher.py:5: SettingWithCopyWarning: \n",
            "A value is trying to be set on a copy of a slice from a DataFrame.\n",
            "Try using .loc[row_indexer,col_indexer] = value instead\n",
            "\n",
            "See the caveats in the documentation: https://pandas.pydata.org/pandas-docs/stable/user_guide/indexing.html#returning-a-view-versus-a-copy\n",
            "  \"\"\"\n",
            "/usr/local/lib/python3.7/dist-packages/ipykernel_launcher.py:6: SettingWithCopyWarning: \n",
            "A value is trying to be set on a copy of a slice from a DataFrame.\n",
            "Try using .loc[row_indexer,col_indexer] = value instead\n",
            "\n",
            "See the caveats in the documentation: https://pandas.pydata.org/pandas-docs/stable/user_guide/indexing.html#returning-a-view-versus-a-copy\n",
            "  \n",
            "/usr/local/lib/python3.7/dist-packages/ipykernel_launcher.py:7: SettingWithCopyWarning: \n",
            "A value is trying to be set on a copy of a slice from a DataFrame.\n",
            "Try using .loc[row_indexer,col_indexer] = value instead\n",
            "\n",
            "See the caveats in the documentation: https://pandas.pydata.org/pandas-docs/stable/user_guide/indexing.html#returning-a-view-versus-a-copy\n",
            "  import sys\n",
            "/usr/local/lib/python3.7/dist-packages/ipykernel_launcher.py:8: SettingWithCopyWarning: \n",
            "A value is trying to be set on a copy of a slice from a DataFrame.\n",
            "Try using .loc[row_indexer,col_indexer] = value instead\n",
            "\n",
            "See the caveats in the documentation: https://pandas.pydata.org/pandas-docs/stable/user_guide/indexing.html#returning-a-view-versus-a-copy\n",
            "  \n"
          ],
          "name": "stderr"
        },
        {
          "output_type": "execute_result",
          "data": {
            "text/html": [
              "<div>\n",
              "<style scoped>\n",
              "    .dataframe tbody tr th:only-of-type {\n",
              "        vertical-align: middle;\n",
              "    }\n",
              "\n",
              "    .dataframe tbody tr th {\n",
              "        vertical-align: top;\n",
              "    }\n",
              "\n",
              "    .dataframe thead th {\n",
              "        text-align: right;\n",
              "    }\n",
              "</style>\n",
              "<table border=\"1\" class=\"dataframe\">\n",
              "  <thead>\n",
              "    <tr style=\"text-align: right;\">\n",
              "      <th></th>\n",
              "      <th>MinTemp</th>\n",
              "      <th>MaxTemp</th>\n",
              "      <th>Rainfall</th>\n",
              "      <th>WindGustDir</th>\n",
              "      <th>WindGustSpeed</th>\n",
              "      <th>WindDir9am</th>\n",
              "      <th>WindDir3pm</th>\n",
              "      <th>WindSpeed9am</th>\n",
              "      <th>WindSpeed3pm</th>\n",
              "      <th>Humidity9am</th>\n",
              "      <th>Humidity3pm</th>\n",
              "      <th>Pressure9am</th>\n",
              "      <th>Pressure3pm</th>\n",
              "      <th>Temp9am</th>\n",
              "      <th>Temp3pm</th>\n",
              "      <th>RainToday</th>\n",
              "      <th>RainTomorrow</th>\n",
              "    </tr>\n",
              "  </thead>\n",
              "  <tbody>\n",
              "    <tr>\n",
              "      <th>0</th>\n",
              "      <td>13.4</td>\n",
              "      <td>22.9</td>\n",
              "      <td>0.6</td>\n",
              "      <td>13</td>\n",
              "      <td>44.0</td>\n",
              "      <td>13</td>\n",
              "      <td>14</td>\n",
              "      <td>20.0</td>\n",
              "      <td>24.0</td>\n",
              "      <td>71.0</td>\n",
              "      <td>22.0</td>\n",
              "      <td>1007.7</td>\n",
              "      <td>1007.1</td>\n",
              "      <td>16.9</td>\n",
              "      <td>21.8</td>\n",
              "      <td>0</td>\n",
              "      <td>0</td>\n",
              "    </tr>\n",
              "    <tr>\n",
              "      <th>1</th>\n",
              "      <td>7.4</td>\n",
              "      <td>25.1</td>\n",
              "      <td>0.0</td>\n",
              "      <td>14</td>\n",
              "      <td>44.0</td>\n",
              "      <td>6</td>\n",
              "      <td>15</td>\n",
              "      <td>4.0</td>\n",
              "      <td>22.0</td>\n",
              "      <td>44.0</td>\n",
              "      <td>25.0</td>\n",
              "      <td>1010.6</td>\n",
              "      <td>1007.8</td>\n",
              "      <td>17.2</td>\n",
              "      <td>24.3</td>\n",
              "      <td>0</td>\n",
              "      <td>0</td>\n",
              "    </tr>\n",
              "    <tr>\n",
              "      <th>2</th>\n",
              "      <td>12.9</td>\n",
              "      <td>25.7</td>\n",
              "      <td>0.0</td>\n",
              "      <td>15</td>\n",
              "      <td>46.0</td>\n",
              "      <td>13</td>\n",
              "      <td>15</td>\n",
              "      <td>19.0</td>\n",
              "      <td>26.0</td>\n",
              "      <td>38.0</td>\n",
              "      <td>30.0</td>\n",
              "      <td>1007.6</td>\n",
              "      <td>1008.7</td>\n",
              "      <td>21.0</td>\n",
              "      <td>23.2</td>\n",
              "      <td>0</td>\n",
              "      <td>0</td>\n",
              "    </tr>\n",
              "    <tr>\n",
              "      <th>3</th>\n",
              "      <td>9.2</td>\n",
              "      <td>28.0</td>\n",
              "      <td>0.0</td>\n",
              "      <td>4</td>\n",
              "      <td>24.0</td>\n",
              "      <td>9</td>\n",
              "      <td>0</td>\n",
              "      <td>11.0</td>\n",
              "      <td>9.0</td>\n",
              "      <td>45.0</td>\n",
              "      <td>16.0</td>\n",
              "      <td>1017.6</td>\n",
              "      <td>1012.8</td>\n",
              "      <td>18.1</td>\n",
              "      <td>26.5</td>\n",
              "      <td>0</td>\n",
              "      <td>0</td>\n",
              "    </tr>\n",
              "    <tr>\n",
              "      <th>4</th>\n",
              "      <td>17.5</td>\n",
              "      <td>32.3</td>\n",
              "      <td>1.0</td>\n",
              "      <td>13</td>\n",
              "      <td>41.0</td>\n",
              "      <td>1</td>\n",
              "      <td>7</td>\n",
              "      <td>7.0</td>\n",
              "      <td>20.0</td>\n",
              "      <td>82.0</td>\n",
              "      <td>33.0</td>\n",
              "      <td>1010.8</td>\n",
              "      <td>1006.0</td>\n",
              "      <td>17.8</td>\n",
              "      <td>29.7</td>\n",
              "      <td>0</td>\n",
              "      <td>0</td>\n",
              "    </tr>\n",
              "    <tr>\n",
              "      <th>...</th>\n",
              "      <td>...</td>\n",
              "      <td>...</td>\n",
              "      <td>...</td>\n",
              "      <td>...</td>\n",
              "      <td>...</td>\n",
              "      <td>...</td>\n",
              "      <td>...</td>\n",
              "      <td>...</td>\n",
              "      <td>...</td>\n",
              "      <td>...</td>\n",
              "      <td>...</td>\n",
              "      <td>...</td>\n",
              "      <td>...</td>\n",
              "      <td>...</td>\n",
              "      <td>...</td>\n",
              "      <td>...</td>\n",
              "      <td>...</td>\n",
              "    </tr>\n",
              "    <tr>\n",
              "      <th>49994</th>\n",
              "      <td>2.9</td>\n",
              "      <td>17.3</td>\n",
              "      <td>0.0</td>\n",
              "      <td>14</td>\n",
              "      <td>35.0</td>\n",
              "      <td>3</td>\n",
              "      <td>14</td>\n",
              "      <td>13.0</td>\n",
              "      <td>22.0</td>\n",
              "      <td>56.0</td>\n",
              "      <td>38.0</td>\n",
              "      <td>1018.9</td>\n",
              "      <td>1017.4</td>\n",
              "      <td>11.3</td>\n",
              "      <td>15.8</td>\n",
              "      <td>0</td>\n",
              "      <td>0</td>\n",
              "    </tr>\n",
              "    <tr>\n",
              "      <th>49996</th>\n",
              "      <td>1.2</td>\n",
              "      <td>17.0</td>\n",
              "      <td>0.0</td>\n",
              "      <td>4</td>\n",
              "      <td>28.0</td>\n",
              "      <td>14</td>\n",
              "      <td>3</td>\n",
              "      <td>4.0</td>\n",
              "      <td>15.0</td>\n",
              "      <td>73.0</td>\n",
              "      <td>49.0</td>\n",
              "      <td>1025.3</td>\n",
              "      <td>1021.8</td>\n",
              "      <td>8.1</td>\n",
              "      <td>16.3</td>\n",
              "      <td>0</td>\n",
              "      <td>0</td>\n",
              "    </tr>\n",
              "    <tr>\n",
              "      <th>49997</th>\n",
              "      <td>3.9</td>\n",
              "      <td>18.7</td>\n",
              "      <td>0.0</td>\n",
              "      <td>2</td>\n",
              "      <td>24.0</td>\n",
              "      <td>7</td>\n",
              "      <td>2</td>\n",
              "      <td>4.0</td>\n",
              "      <td>11.0</td>\n",
              "      <td>69.0</td>\n",
              "      <td>31.0</td>\n",
              "      <td>1025.0</td>\n",
              "      <td>1022.0</td>\n",
              "      <td>10.9</td>\n",
              "      <td>18.4</td>\n",
              "      <td>0</td>\n",
              "      <td>0</td>\n",
              "    </tr>\n",
              "    <tr>\n",
              "      <th>49998</th>\n",
              "      <td>1.3</td>\n",
              "      <td>16.4</td>\n",
              "      <td>0.0</td>\n",
              "      <td>11</td>\n",
              "      <td>28.0</td>\n",
              "      <td>8</td>\n",
              "      <td>0</td>\n",
              "      <td>13.0</td>\n",
              "      <td>9.0</td>\n",
              "      <td>57.0</td>\n",
              "      <td>40.0</td>\n",
              "      <td>1030.6</td>\n",
              "      <td>1027.0</td>\n",
              "      <td>8.7</td>\n",
              "      <td>15.9</td>\n",
              "      <td>0</td>\n",
              "      <td>0</td>\n",
              "    </tr>\n",
              "    <tr>\n",
              "      <th>49999</th>\n",
              "      <td>-2.7</td>\n",
              "      <td>18.5</td>\n",
              "      <td>0.0</td>\n",
              "      <td>3</td>\n",
              "      <td>24.0</td>\n",
              "      <td>13</td>\n",
              "      <td>6</td>\n",
              "      <td>4.0</td>\n",
              "      <td>13.0</td>\n",
              "      <td>76.0</td>\n",
              "      <td>30.0</td>\n",
              "      <td>1030.1</td>\n",
              "      <td>1025.2</td>\n",
              "      <td>7.1</td>\n",
              "      <td>18.0</td>\n",
              "      <td>0</td>\n",
              "      <td>0</td>\n",
              "    </tr>\n",
              "  </tbody>\n",
              "</table>\n",
              "<p>27849 rows × 17 columns</p>\n",
              "</div>"
            ],
            "text/plain": [
              "       MinTemp  MaxTemp  Rainfall  ...  Temp3pm  RainToday  RainTomorrow\n",
              "0         13.4     22.9       0.6  ...     21.8          0             0\n",
              "1          7.4     25.1       0.0  ...     24.3          0             0\n",
              "2         12.9     25.7       0.0  ...     23.2          0             0\n",
              "3          9.2     28.0       0.0  ...     26.5          0             0\n",
              "4         17.5     32.3       1.0  ...     29.7          0             0\n",
              "...        ...      ...       ...  ...      ...        ...           ...\n",
              "49994      2.9     17.3       0.0  ...     15.8          0             0\n",
              "49996      1.2     17.0       0.0  ...     16.3          0             0\n",
              "49997      3.9     18.7       0.0  ...     18.4          0             0\n",
              "49998      1.3     16.4       0.0  ...     15.9          0             0\n",
              "49999     -2.7     18.5       0.0  ...     18.0          0             0\n",
              "\n",
              "[27849 rows x 17 columns]"
            ]
          },
          "metadata": {
            "tags": []
          },
          "execution_count": 121
        }
      ]
    },
    {
      "cell_type": "markdown",
      "metadata": {
        "id": "N3ClnHjdWDrH"
      },
      "source": [
        "Scaling data"
      ]
    },
    {
      "cell_type": "code",
      "metadata": {
        "id": "yZtl6ApYWHUZ",
        "colab": {
          "base_uri": "https://localhost:8080/"
        },
        "outputId": "b118b98a-d821-4645-e1ed-f253b11604c1"
      },
      "source": [
        "# define standard scaler\n",
        "scaler = StandardScaler()\n",
        "# transform data\n",
        "rain_newstd = scaler.fit_transform(rain_new)\n",
        "print(rain_newstd)"
      ],
      "execution_count": null,
      "outputs": [
        {
          "output_type": "stream",
          "text": [
            "[[ 0.16864969 -0.13219512  1.19413978 ... -0.07532938 -0.23076099\n",
            "  -0.43440283]\n",
            " [-0.83030287  0.24589895 -0.37924564 ...  0.36809279 -0.23076099\n",
            "  -0.43440283]\n",
            " [ 0.08540365  0.34901551 -0.37924564 ...  0.17298703 -0.23076099\n",
            "  -0.43440283]\n",
            " ...\n",
            " [-1.4130252  -0.85401107 -0.37924564 ... -0.67838354 -0.23076099\n",
            "  -0.43440283]\n",
            " [-1.84590464 -1.24929123 -0.37924564 ... -1.12180571 -0.23076099\n",
            "  -0.43440283]\n",
            " [-2.51187301 -0.88838325 -0.37924564 ... -0.74933109 -0.23076099\n",
            "  -0.43440283]]\n"
          ],
          "name": "stdout"
        }
      ]
    },
    {
      "cell_type": "markdown",
      "metadata": {
        "id": "1vSU4tJrxenz"
      },
      "source": [
        "Visualizing data"
      ]
    },
    {
      "cell_type": "code",
      "metadata": {
        "id": "zZx6ntD2xMWe",
        "colab": {
          "base_uri": "https://localhost:8080/",
          "height": 912
        },
        "outputId": "d1f0a11f-42ce-49be-adbf-a9122b21c40c"
      },
      "source": [
        "fig = plt.figure(figsize = (20,15))\n",
        "ax = fig.gca()\n",
        "rain_new.hist(ax=ax)\n",
        "plt.show()"
      ],
      "execution_count": null,
      "outputs": [
        {
          "output_type": "stream",
          "text": [
            "/usr/local/lib/python3.7/dist-packages/ipykernel_launcher.py:3: UserWarning: To output multiple subplots, the figure containing the passed axes is being cleared\n",
            "  This is separate from the ipykernel package so we can avoid doing imports until\n"
          ],
          "name": "stderr"
        },
        {
          "output_type": "display_data",
          "data": {
            "image/png": "[encoded data removed]",
            "text/plain": [
              "<Figure size 1440x1080 with 20 Axes>"
            ]
          },
          "metadata": {
            "tags": []
          }
        }
      ]
    },
    {
      "cell_type": "markdown",
      "metadata": {
        "id": "HFLL7Hh-s44H"
      },
      "source": [
        "Aduh RainToday ada satu je unique value bila ambil 10k data"
      ]
    },
    {
      "cell_type": "code",
      "metadata": {
        "id": "UmQ4_KzVsLlp",
        "colab": {
          "base_uri": "https://localhost:8080/"
        },
        "outputId": "27600023-041f-41ae-e89c-213ed30f2e82"
      },
      "source": [
        "list(set(rain_new.RainToday))\n",
        "list(rain_new['RainToday'].unique())"
      ],
      "execution_count": null,
      "outputs": [
        {
          "output_type": "execute_result",
          "data": {
            "text/plain": [
              "[0, 1]"
            ]
          },
          "metadata": {
            "tags": []
          },
          "execution_count": 124
        }
      ]
    },
    {
      "cell_type": "code",
      "metadata": {
        "id": "nnfPETagaYGf",
        "colab": {
          "base_uri": "https://localhost:8080/",
          "height": 360
        },
        "outputId": "811bea32-514e-4230-d2b3-3ebcd8fa54d3"
      },
      "source": [
        "# Plot a bar chart based on count of each label \n",
        "# Data not balanced\n",
        "rain_new['RainTomorrow'].value_counts().plot(kind='bar')"
      ],
      "execution_count": null,
      "outputs": [
        {
          "output_type": "execute_result",
          "data": {
            "text/plain": [
              "<matplotlib.axes._subplots.AxesSubplot at 0x7f63ad2d6f90>"
            ]
          },
          "metadata": {
            "tags": []
          },
          "execution_count": 125
        },
        {
          "output_type": "display_data",
          "data": {
            "image/png": "[encoded data removed]",
            "text/plain": [
              "<Figure size 576x396 with 1 Axes>"
            ]
          },
          "metadata": {
            "tags": []
          }
        }
      ]
    },
    {
      "cell_type": "code",
      "metadata": {
        "id": "usm4O3xTPGt4"
      },
      "source": [
        "# Target column\n",
        "target = rain_new['RainTomorrow']\n",
        "\n",
        "# Features column\n",
        "features = rain_new.drop('RainTomorrow', axis = 1)"
      ],
      "execution_count": null,
      "outputs": []
    },
    {
      "cell_type": "code",
      "metadata": {
        "id": "kB8XLqjxPHww",
        "colab": {
          "base_uri": "https://localhost:8080/"
        },
        "outputId": "e59a951a-bb1a-4ddb-e58a-c763ddc35ad9"
      },
      "source": [
        "dummy = DummyClassifier (strategy = \"uniform\")\n",
        "\n",
        "# Train model\n",
        "dummy.fit( features, target)\n",
        "\n",
        "# Accuracy scores\n",
        "scores = dummy.score(features, target) \n",
        " \n",
        "# Print scores\n",
        "scores"
      ],
      "execution_count": null,
      "outputs": [
        {
          "output_type": "execute_result",
          "data": {
            "text/plain": [
              "0.4991920715286007"
            ]
          },
          "metadata": {
            "tags": []
          },
          "execution_count": 127
        }
      ]
    },
    {
      "cell_type": "markdown",
      "metadata": {
        "id": "WzEaiUx9daE9"
      },
      "source": [
        "Apply SMOTE pada training set only - mai & youtube"
      ]
    },
    {
      "cell_type": "code",
      "metadata": {
        "id": "kStbeSV0jdlT",
        "colab": {
          "base_uri": "https://localhost:8080/",
          "height": 375
        },
        "outputId": "291c8c14-8496-4139-a3d0-d09ed7b89925"
      },
      "source": [
        "# Split dataset in training and test datasets \n",
        "x, x_test, y, y_test = train_test_split(features,target,test_size=0.2,random_state=80)\n",
        "\n",
        "# Split the dataset into training set and development set\n",
        "x_train, x_dev, y_train, y_dev = train_test_split(x, y, test_size = 0.2, random_state = 10)\n",
        "\n",
        "#Split and generate imbalance test/train set\n",
        "class_nobalance = pd.Series(y_train).value_counts().plot.bar()\n",
        "class_nobalance.set_title(\"Outcome ytrain (Without SMOTE)\")"
      ],
      "execution_count": null,
      "outputs": [
        {
          "output_type": "execute_result",
          "data": {
            "text/plain": [
              "Text(0.5, 1.0, 'Outcome ytrain (Without SMOTE)')"
            ]
          },
          "metadata": {
            "tags": []
          },
          "execution_count": 128
        },
        {
          "output_type": "display_data",
          "data": {
            "image/png": "[encoded data removed]",
            "text/plain": [
              "<Figure size 576x396 with 1 Axes>"
            ]
          },
          "metadata": {
            "tags": []
          }
        }
      ]
    },
    {
      "cell_type": "code",
      "metadata": {
        "id": "myfyo-xZF8cl",
        "colab": {
          "base_uri": "https://localhost:8080/",
          "height": 409
        },
        "outputId": "ca20f131-71f2-4a89-f060-dc095521d127"
      },
      "source": [
        "#Split and generate balance test/train set using SMOTE\n",
        "from imblearn.over_sampling import SMOTE\n",
        "sm = SMOTE(random_state = 33)\n",
        "x_train_new, y_train_new = sm.fit_sample(x, y.ravel())\n",
        "class_balance = pd.Series(y_train_new).value_counts().plot.bar()\n",
        "class_balance.set_title(\"Outcome ytrain (SMOTE)\")"
      ],
      "execution_count": null,
      "outputs": [
        {
          "output_type": "stream",
          "text": [
            "/usr/local/lib/python3.7/dist-packages/sklearn/utils/deprecation.py:87: FutureWarning: Function safe_indexing is deprecated; safe_indexing is deprecated in version 0.22 and will be removed in version 0.24.\n",
            "  warnings.warn(msg, category=FutureWarning)\n"
          ],
          "name": "stderr"
        },
        {
          "output_type": "execute_result",
          "data": {
            "text/plain": [
              "Text(0.5, 1.0, 'Outcome ytrain (SMOTE)')"
            ]
          },
          "metadata": {
            "tags": []
          },
          "execution_count": 129
        },
        {
          "output_type": "display_data",
          "data": {
            "image/png": "[encoded data removed]",
            "text/plain": [
              "<Figure size 576x396 with 1 Axes>"
            ]
          },
          "metadata": {
            "tags": []
          }
        }
      ]
    },
    {
      "cell_type": "code",
      "metadata": {
        "id": "MoaYkbN92P9K"
      },
      "source": [
        "#Split and generate balance test/train set using SMOTE\n",
        "sm_dev = SMOTE(random_state = 22)\n",
        "x_dev_new, y_dev_new = sm.fit_sample(x_dev, y_dev.ravel())\n",
        "class_balance = pd.Series(y_dev_new).value_counts().plot.bar()\n",
        "class_balance.set_title(\"Outcome ytrain (SMOTE)\")"
      ],
      "execution_count": null,
      "outputs": []
    },
    {
      "cell_type": "markdown",
      "metadata": {
        "id": "W89TmYZqGkoS"
      },
      "source": [
        "Now our dataset are cleaned and balanced!"
      ]
    },
    {
      "cell_type": "markdown",
      "metadata": {
        "id": "3QNnUhHsuyCS"
      },
      "source": [
        "## Pairplot"
      ]
    },
    {
      "cell_type": "markdown",
      "metadata": {
        "id": "brK01dc-RXqB"
      },
      "source": [
        "##KNN\n"
      ]
    },
    {
      "cell_type": "code",
      "metadata": {
        "id": "D3MrZP0nRxGg",
        "colab": {
          "base_uri": "https://localhost:8080/"
        },
        "outputId": "58fe2864-6a2a-4cb5-dee9-f29a49d07bcf"
      },
      "source": [
        "# Training a KNN model\n",
        "# Create a KNN classifier with k = 1\n",
        "knn = KNeighborsClassifier(n_neighbors=1, weights='distance', algorithm='brute')\n",
        "\n",
        "# Train the model using the training set\n",
        "knn.fit(x_train_new, y_train_new)\n",
        "\n",
        "# Use 10-fold cross validation to perform training and validation on the training set\n",
        "# Parameter scoring = 'accuracy' will compute accuracy\n",
        "scores = cross_val_score(knn, x_train_new, y_train_new, cv = 10, scoring = 'accuracy')\n",
        "\n",
        "# Print scores\n",
        "scores"
      ],
      "execution_count": null,
      "outputs": [
        {
          "output_type": "execute_result",
          "data": {
            "text/plain": [
              "array([0.91030077, 0.91589034, 0.92307692, 0.91163162, 0.91267306,\n",
              "       0.91932907, 0.90788072, 0.90761448, 0.91267306, 0.91187433])"
            ]
          },
          "metadata": {
            "tags": []
          },
          "execution_count": 131
        }
      ]
    },
    {
      "cell_type": "code",
      "metadata": {
        "id": "qbKySAWeSV_v",
        "colab": {
          "base_uri": "https://localhost:8080/"
        },
        "outputId": "6d68f0e5-abee-4c63-d624-53687622731f"
      },
      "source": [
        "# Predict the target for the development dataset\n",
        "dev_predict = knn.predict(x_test)\n",
        "dev_predict"
      ],
      "execution_count": null,
      "outputs": [
        {
          "output_type": "execute_result",
          "data": {
            "text/plain": [
              "array([1, 1, 0, ..., 1, 0, 0])"
            ]
          },
          "metadata": {
            "tags": []
          },
          "execution_count": 132
        }
      ]
    },
    {
      "cell_type": "code",
      "metadata": {
        "id": "sSwbLVk_Uma3",
        "colab": {
          "base_uri": "https://localhost:8080/"
        },
        "outputId": "6250a274-9d9b-4c13-87bb-5ebaea10f4a5"
      },
      "source": [
        "# Evaluate the knn model on development set\n",
        "# Compute the model accuracy on the development set: How often is the classifier correct?\n",
        "print(\"Accuracy (Test): \", metrics.accuracy_score(y_test, dev_predict))"
      ],
      "execution_count": null,
      "outputs": [
        {
          "output_type": "stream",
          "text": [
            "Accuracy (Test):  0.7757630161579893\n"
          ],
          "name": "stdout"
        }
      ]
    },
    {
      "cell_type": "markdown",
      "metadata": {
        "id": "oFEGAI7FS2_Y"
      },
      "source": [
        "Tune Parameter KNN"
      ]
    },
    {
      "cell_type": "code",
      "metadata": {
        "id": "C_azvansS2AB",
        "colab": {
          "base_uri": "https://localhost:8080/"
        },
        "outputId": "9d3d6a18-9afc-4e00-8a54-109ed6c0b0b0"
      },
      "source": [
        "# Create a KNN classifier with k = 5\n",
        "knn = KNeighborsClassifier(n_neighbors = 24)\n",
        "# Train the model using the training set\n",
        "knn.fit(x_train_new, y_train_new)\n",
        "# Predict the target for the development set\n",
        "dev_predict = knn.predict(x_test)\n",
        "# Compute the model accuracy on the development set: How often is the classifier correct?\n",
        "print(\"Accuracy: \", metrics.accuracy_score(y_test, dev_predict))"
      ],
      "execution_count": null,
      "outputs": [
        {
          "output_type": "stream",
          "text": [
            "Accuracy:  0.7341113105924596\n"
          ],
          "name": "stdout"
        }
      ]
    },
    {
      "cell_type": "code",
      "metadata": {
        "id": "WxX7RuLoQoiY",
        "colab": {
          "base_uri": "https://localhost:8080/"
        },
        "outputId": "931871b6-2ee9-48e0-a6ed-32bd3a804759"
      },
      "source": [
        "# Print confusion matrix\n",
        "print(confusion_matrix(y_test, dev_predict))\n",
        "\n",
        "# Print precision, recall and F1\n",
        "print(classification_report(y_test, dev_predict))"
      ],
      "execution_count": null,
      "outputs": [
        {
          "output_type": "stream",
          "text": [
            "[[3422 1224]\n",
            " [ 257  667]]\n",
            "              precision    recall  f1-score   support\n",
            "\n",
            "           0       0.93      0.74      0.82      4646\n",
            "           1       0.35      0.72      0.47       924\n",
            "\n",
            "    accuracy                           0.73      5570\n",
            "   macro avg       0.64      0.73      0.65      5570\n",
            "weighted avg       0.83      0.73      0.76      5570\n",
            "\n"
          ],
          "name": "stdout"
        }
      ]
    },
    {
      "cell_type": "markdown",
      "metadata": {
        "id": "Or4ge4DkTI_o"
      },
      "source": [
        "## Decision Tree"
      ]
    },
    {
      "cell_type": "code",
      "metadata": {
        "id": "NaD3guBlTLSR",
        "colab": {
          "base_uri": "https://localhost:8080/"
        },
        "outputId": "6f07583a-6546-43f7-9ae0-5987a0f9fcf3"
      },
      "source": [
        "# Training a decision tree model\n",
        "\n",
        "# Create a decision tree classifier with default parameters\n",
        "dtree = DecisionTreeClassifier(criterion='entropy', splitter = 'random')\n",
        "\n",
        "# Train the model using the training set\n",
        "dtree.fit(x_train_new, y_train_new)\n",
        "\n",
        "# Use 10-fold cross validation to perform training and validation on the training set\n",
        "# Parameter scoring = 'accuracy' will compute accuracy\n",
        "scores = cross_val_score(dtree, x_train_new, y_train_new, cv = 10, scoring = 'accuracy')\n",
        "\n",
        "# Print scores\n",
        "scores"
      ],
      "execution_count": null,
      "outputs": [
        {
          "output_type": "execute_result",
          "data": {
            "text/plain": [
              "array([0.82246473, 0.82326324, 0.86105936, 0.85733298, 0.86208733,\n",
              "       0.86022364, 0.85756124, 0.86528222, 0.86368477, 0.86687966])"
            ]
          },
          "metadata": {
            "tags": []
          },
          "execution_count": 136
        }
      ]
    },
    {
      "cell_type": "code",
      "metadata": {
        "id": "VnUECzD0TTQ_",
        "colab": {
          "base_uri": "https://localhost:8080/"
        },
        "outputId": "83e8d6ec-f28a-49c0-bbcb-89a8dda59352"
      },
      "source": [
        "# Predict the target for the development dataset\n",
        "dev_predict = dtree.predict(x_test)\n",
        "dev_predict"
      ],
      "execution_count": null,
      "outputs": [
        {
          "output_type": "execute_result",
          "data": {
            "text/plain": [
              "array([1, 0, 0, ..., 0, 0, 0])"
            ]
          },
          "metadata": {
            "tags": []
          },
          "execution_count": 137
        }
      ]
    },
    {
      "cell_type": "code",
      "metadata": {
        "id": "7kdSsXkxQclQ",
        "colab": {
          "base_uri": "https://localhost:8080/"
        },
        "outputId": "53bf6907-f012-4977-ebc3-8798f39b1ec0"
      },
      "source": [
        "# Print confusion matrix\n",
        "print(confusion_matrix(y_test, dev_predict))\n",
        "\n",
        "# Print precision, recall and F1\n",
        "print(classification_report(y_test, dev_predict))"
      ],
      "execution_count": null,
      "outputs": [
        {
          "output_type": "stream",
          "text": [
            "[[3850  796]\n",
            " [ 513  411]]\n",
            "              precision    recall  f1-score   support\n",
            "\n",
            "           0       0.88      0.83      0.85      4646\n",
            "           1       0.34      0.44      0.39       924\n",
            "\n",
            "    accuracy                           0.76      5570\n",
            "   macro avg       0.61      0.64      0.62      5570\n",
            "weighted avg       0.79      0.76      0.78      5570\n",
            "\n"
          ],
          "name": "stdout"
        }
      ]
    },
    {
      "cell_type": "markdown",
      "metadata": {
        "id": "4tMFfSSNQu7A"
      },
      "source": [
        "Tune Parameter"
      ]
    },
    {
      "cell_type": "code",
      "metadata": {
        "id": "IBVLDTygQwTw",
        "colab": {
          "base_uri": "https://localhost:8080/"
        },
        "outputId": "9b41c0c2-7de3-400a-85f9-8d6751d58c19"
      },
      "source": [
        "# Create a decision tree classifier with criterion = entropy and max_depth = 3\n",
        "dtree = DecisionTreeClassifier(criterion = 'entropy', max_depth = 3)\n",
        "\n",
        "# Train the model using the training set\n",
        "dtree.fit(x_train, y_train)\n",
        "\n",
        "# Predict the target for the development dataset\n",
        "dev_predict = dtree.predict(x_test)\n",
        "\n",
        "# Compute the model accuracy on the development set: How often is the classifier correct?\n",
        "print(\"Accuracy: \", metrics.accuracy_score(y_test, dev_predict))"
      ],
      "execution_count": null,
      "outputs": [
        {
          "output_type": "stream",
          "text": [
            "Accuracy:  0.8552962298025135\n"
          ],
          "name": "stdout"
        }
      ]
    },
    {
      "cell_type": "markdown",
      "metadata": {
        "id": "YGmoCfVNQ2_Y"
      },
      "source": [
        "Visualization"
      ]
    },
    {
      "cell_type": "code",
      "metadata": {
        "id": "rgtIq27eQ2Xn",
        "colab": {
          "base_uri": "https://localhost:8080/",
          "height": 594
        },
        "outputId": "c98ab153-9b47-4cef-8558-05a3a3821d0c"
      },
      "source": [
        "# Load required libraries\n",
        "import sklearn.tree as tree\n",
        "import pydotplus\n",
        "from sklearn.externals.six import StringIO\n",
        "from IPython.display import Image\n",
        "\n",
        "# Visualize decision tree\n",
        "dot_data = StringIO()\n",
        "tree.export_graphviz(dtree,\n",
        "                     out_file = dot_data,\n",
        "                     class_names = ['0', '1'], # name of each of the target classes in asce\n",
        "                     feature_names = features.columns, # the feature names.\n",
        "                     filled = True, # whether to fill in the boxes with colors.\n",
        "                     rounded = True, # whether to round the corners of the boxes.\n",
        "                     special_characters = True)\n",
        "graph = pydotplus.graph_from_dot_data(dot_data.getvalue())\n",
        "Image(graph.create_png())"
      ],
      "execution_count": null,
      "outputs": [
        {
          "output_type": "execute_result",
          "data": {
            "image/png": "[encoded data removed]",
            "text/plain": [
              "<IPython.core.display.Image object>"
            ]
          },
          "metadata": {
            "tags": []
          },
          "execution_count": 140
        }
      ]
    },
    {
      "cell_type": "code",
      "metadata": {
        "id": "1mEFrg0QRGLo",
        "colab": {
          "base_uri": "https://localhost:8080/"
        },
        "outputId": "10aad08b-aa3e-4ede-f6d6-a82b6a1d5482"
      },
      "source": [
        "# Load export_text library\n",
        "from sklearn.tree.export import export_text\n",
        "tree_rules = export_text(dtree, feature_names=list(x_train))\n",
        "\n",
        "# Print deccision tree rules\n",
        "print(tree_rules)"
      ],
      "execution_count": null,
      "outputs": [
        {
          "output_type": "stream",
          "text": [
            "|--- Humidity3pm <= 72.50\n",
            "|   |--- Humidity3pm <= 52.50\n",
            "|   |   |--- WindGustSpeed <= 38.00\n",
            "|   |   |   |--- class: 0\n",
            "|   |   |--- WindGustSpeed >  38.00\n",
            "|   |   |   |--- class: 0\n",
            "|   |--- Humidity3pm >  52.50\n",
            "|   |   |--- Pressure3pm <= 1012.25\n",
            "|   |   |   |--- class: 0\n",
            "|   |   |--- Pressure3pm >  1012.25\n",
            "|   |   |   |--- class: 0\n",
            "|--- Humidity3pm >  72.50\n",
            "|   |--- Humidity3pm <= 83.50\n",
            "|   |   |--- WindGustSpeed <= 47.00\n",
            "|   |   |   |--- class: 0\n",
            "|   |   |--- WindGustSpeed >  47.00\n",
            "|   |   |   |--- class: 1\n",
            "|   |--- Humidity3pm >  83.50\n",
            "|   |   |--- Temp3pm <= 22.30\n",
            "|   |   |   |--- class: 1\n",
            "|   |   |--- Temp3pm >  22.30\n",
            "|   |   |   |--- class: 1\n",
            "\n"
          ],
          "name": "stdout"
        }
      ]
    },
    {
      "cell_type": "markdown",
      "metadata": {
        "id": "xz_CNcZQ4env"
      },
      "source": [
        "## Naive Bayes"
      ]
    },
    {
      "cell_type": "markdown",
      "metadata": {
        "id": "g4v7XHImDMLg"
      },
      "source": [
        "### Gaussian"
      ]
    },
    {
      "cell_type": "code",
      "metadata": {
        "id": "c2ve9xSpCqRA",
        "colab": {
          "base_uri": "https://localhost:8080/"
        },
        "outputId": "1015fe74-64af-4d80-ac20-264dd758b468"
      },
      "source": [
        "# Create a Gaussian Naive Bayes classifier with default parameters\n",
        "gnb = GaussianNB()\n",
        "# Use 10-fold cross validation to perform training and validation on the training set\n",
        "# Parameter scoring = 'accuracy' will compute accuracy\n",
        "scores = cross_val_score(gnb, x_train_new, y_train_new, cv = 10, scoring = 'accuracy')\n",
        "# Display the array containing accuracy from 10 folds or iterations\n",
        "scores"
      ],
      "execution_count": null,
      "outputs": [
        {
          "output_type": "execute_result",
          "data": {
            "text/plain": [
              "array([0.70934256, 0.70774554, 0.73063615, 0.7239819 , 0.7127263 ,\n",
              "       0.73189563, 0.72257721, 0.71618743, 0.71592119, 0.7100639 ])"
            ]
          },
          "metadata": {
            "tags": []
          },
          "execution_count": 142
        }
      ]
    },
    {
      "cell_type": "code",
      "metadata": {
        "id": "3i7IeZKuC2S0",
        "colab": {
          "base_uri": "https://localhost:8080/"
        },
        "outputId": "eb0c4a28-0867-4b34-c45c-323b0b488f2f"
      },
      "source": [
        "# Print the mean accuracy score\n",
        "print('Accuracy (Validation) =', scores.mean())"
      ],
      "execution_count": null,
      "outputs": [
        {
          "output_type": "stream",
          "text": [
            "Accuracy (Validation) = 0.7181077820514237\n"
          ],
          "name": "stdout"
        }
      ]
    },
    {
      "cell_type": "code",
      "metadata": {
        "id": "Ff9vCXa_C9nc",
        "colab": {
          "base_uri": "https://localhost:8080/"
        },
        "outputId": "53f2214d-4e94-4ebb-dc80-6615efabd30c"
      },
      "source": [
        "# Running prediction\n",
        "gnb.fit(x_train_new, y_train_new)\n",
        "# Predict the target for the test dataset\n",
        "test_predict = gnb.predict(x_test)\n",
        "# Compute the model accuracy on the development set: How often is the classifier correct?\n",
        "print(\"Accuracy (Test): \", metrics.accuracy_score(y_test, test_predict))"
      ],
      "execution_count": null,
      "outputs": [
        {
          "output_type": "stream",
          "text": [
            "Accuracy (Test):  0.7368043087971274\n"
          ],
          "name": "stdout"
        }
      ]
    },
    {
      "cell_type": "markdown",
      "metadata": {
        "id": "AoiftSglDRDq"
      },
      "source": [
        "### Bernoulli"
      ]
    },
    {
      "cell_type": "code",
      "metadata": {
        "id": "BxMz5SzyDVzc",
        "colab": {
          "base_uri": "https://localhost:8080/"
        },
        "outputId": "ecfb8817-9baf-4a59-d193-3818b71a5371"
      },
      "source": [
        "# Create a Bernoulli Naive Bayes classifier with default parameters\n",
        "bnb = BernoulliNB(binarize = 0.0)\n",
        "# Use 10-fold cross validation to perform training and validation on the training set\n",
        "scores = cross_val_score(bnb, x_train_new, y_train_new, cv = 10, scoring = 'accuracy')\n",
        "# Display the array containing accuracy from 10 folds or iterations\n",
        "scores\n"
      ],
      "execution_count": null,
      "outputs": [
        {
          "output_type": "execute_result",
          "data": {
            "text/plain": [
              "array([0.57945169, 0.58690445, 0.67474048, 0.67261113, 0.67625133,\n",
              "       0.68051118, 0.67784878, 0.65894569, 0.6799787 , 0.65921193])"
            ]
          },
          "metadata": {
            "tags": []
          },
          "execution_count": 145
        }
      ]
    },
    {
      "cell_type": "code",
      "metadata": {
        "id": "uHp8Q7ysEKcD",
        "colab": {
          "base_uri": "https://localhost:8080/"
        },
        "outputId": "ee2e249b-dc7a-483c-b112-0d5f8d491909"
      },
      "source": [
        "# Print the mean accuracy score\n",
        "print('Accuracy =', scores.mean())"
      ],
      "execution_count": null,
      "outputs": [
        {
          "output_type": "stream",
          "text": [
            "Accuracy = 0.6546455349375522\n"
          ],
          "name": "stdout"
        }
      ]
    },
    {
      "cell_type": "code",
      "metadata": {
        "id": "kivD_iy9EQR_",
        "colab": {
          "base_uri": "https://localhost:8080/"
        },
        "outputId": "55d5f5e6-cdbe-4208-cc6a-7b80cbd4de8c"
      },
      "source": [
        "# Running prediction\n",
        "bnb.fit(x_train_new, y_train_new)\n",
        "# Predict the target for the test dataset\n",
        "test_predict = bnb.predict(x_test)\n",
        "# Compute the model accuracy on the development set: How often is the classifier correct?\n",
        "print(\"Accuracy (Test): \", metrics.accuracy_score(y_test, test_predict))"
      ],
      "execution_count": null,
      "outputs": [
        {
          "output_type": "stream",
          "text": [
            "Accuracy (Test):  0.767145421903052\n"
          ],
          "name": "stdout"
        }
      ]
    },
    {
      "cell_type": "markdown",
      "metadata": {
        "id": "hXUdmUFZHB5e"
      },
      "source": [
        "# Feature Selection"
      ]
    },
    {
      "cell_type": "markdown",
      "metadata": {
        "id": "mLMzIU98IOCO"
      },
      "source": [
        "Having irrelevant features in your data can decrease the accuracy of the models and make your model learn based on irrelevant features. The benefit of performing feature selection is as below:\n",
        "\n",
        "\n",
        "1.   Reduces Overfitting: Less redundant data means less opportunity to make decisions based on noise.\n",
        "\n",
        "2.   Improves Accuracy: Less misleading data means modeling accuracy improves.\n",
        "\n",
        "3.   Reduces Training Time: fewer data points reduce algorithm complexity and algorithms train faster.\n",
        "\n",
        "4.   Reduces Training Time: fewer data points reduce algorithm complexity and algorithms train faster.\n",
        "\n",
        "5.   Improve interpretation: as model complexity is reduced, it is easier to interpret\n",
        "\n",
        "A simple covariance matrix method via the Spearman rank correlation coefficient is adopted for the feature selection method "
      ]
    },
    {
      "cell_type": "code",
      "metadata": {
        "id": "bYMZkvVlP3lK",
        "colab": {
          "base_uri": "https://localhost:8080/"
        },
        "outputId": "487814a1-e661-4673-f02d-e6918cd937b6"
      },
      "source": [
        "# To find the correlation among the columns using pearson method\n",
        "import seaborn as sns\n",
        "corr=rain_new.corr(method ='pearson')\n",
        "corr"
      ],
      "execution_count": null,
      "outputs": [
        {
          "output_type": "execute_result",
          "data": {
            "text/html": [
              "<div>\n",
              "<style scoped>\n",
              "    .dataframe tbody tr th:only-of-type {\n",
              "        vertical-align: middle;\n",
              "    }\n",
              "\n",
              "    .dataframe tbody tr th {\n",
              "        vertical-align: top;\n",
              "    }\n",
              "\n",
              "    .dataframe thead th {\n",
              "        text-align: right;\n",
              "    }\n",
              "</style>\n",
              "<table border=\"1\" class=\"dataframe\">\n",
              "  <thead>\n",
              "    <tr style=\"text-align: right;\">\n",
              "      <th></th>\n",
              "      <th>MinTemp</th>\n",
              "      <th>MaxTemp</th>\n",
              "      <th>Rainfall</th>\n",
              "      <th>WindGustDir</th>\n",
              "      <th>WindGustSpeed</th>\n",
              "      <th>WindDir9am</th>\n",
              "      <th>WindDir3pm</th>\n",
              "      <th>WindSpeed9am</th>\n",
              "      <th>WindSpeed3pm</th>\n",
              "      <th>Humidity9am</th>\n",
              "      <th>Humidity3pm</th>\n",
              "      <th>Pressure9am</th>\n",
              "      <th>Pressure3pm</th>\n",
              "      <th>Temp9am</th>\n",
              "      <th>Temp3pm</th>\n",
              "      <th>RainToday</th>\n",
              "      <th>RainTomorrow</th>\n",
              "    </tr>\n",
              "  </thead>\n",
              "  <tbody>\n",
              "    <tr>\n",
              "      <th>MinTemp</th>\n",
              "      <td>1.000000</td>\n",
              "      <td>0.665325</td>\n",
              "      <td>0.081253</td>\n",
              "      <td>-0.194322</td>\n",
              "      <td>0.302582</td>\n",
              "      <td>-0.090129</td>\n",
              "      <td>-0.235031</td>\n",
              "      <td>0.246077</td>\n",
              "      <td>0.224725</td>\n",
              "      <td>-0.103819</td>\n",
              "      <td>0.220469</td>\n",
              "      <td>-0.423153</td>\n",
              "      <td>-0.385556</td>\n",
              "      <td>0.900209</td>\n",
              "      <td>0.630106</td>\n",
              "      <td>0.052507</td>\n",
              "      <td>0.127483</td>\n",
              "    </tr>\n",
              "    <tr>\n",
              "      <th>MaxTemp</th>\n",
              "      <td>0.665325</td>\n",
              "      <td>1.000000</td>\n",
              "      <td>-0.125047</td>\n",
              "      <td>-0.226375</td>\n",
              "      <td>0.180401</td>\n",
              "      <td>-0.260912</td>\n",
              "      <td>-0.177085</td>\n",
              "      <td>-0.004651</td>\n",
              "      <td>0.033172</td>\n",
              "      <td>-0.312767</td>\n",
              "      <td>-0.374995</td>\n",
              "      <td>-0.380251</td>\n",
              "      <td>-0.441619</td>\n",
              "      <td>0.830424</td>\n",
              "      <td>0.979864</td>\n",
              "      <td>-0.082594</td>\n",
              "      <td>-0.079360</td>\n",
              "    </tr>\n",
              "    <tr>\n",
              "      <th>Rainfall</th>\n",
              "      <td>0.081253</td>\n",
              "      <td>-0.125047</td>\n",
              "      <td>1.000000</td>\n",
              "      <td>0.041034</td>\n",
              "      <td>0.054984</td>\n",
              "      <td>0.084769</td>\n",
              "      <td>0.026110</td>\n",
              "      <td>0.067628</td>\n",
              "      <td>0.055848</td>\n",
              "      <td>0.234395</td>\n",
              "      <td>0.223447</td>\n",
              "      <td>-0.061568</td>\n",
              "      <td>-0.018510</td>\n",
              "      <td>-0.025890</td>\n",
              "      <td>-0.128735</td>\n",
              "      <td>0.852107</td>\n",
              "      <td>0.138552</td>\n",
              "    </tr>\n",
              "    <tr>\n",
              "      <th>WindGustDir</th>\n",
              "      <td>-0.194322</td>\n",
              "      <td>-0.226375</td>\n",
              "      <td>0.041034</td>\n",
              "      <td>1.000000</td>\n",
              "      <td>0.144200</td>\n",
              "      <td>0.377825</td>\n",
              "      <td>0.555587</td>\n",
              "      <td>0.057342</td>\n",
              "      <td>0.081102</td>\n",
              "      <td>-0.104683</td>\n",
              "      <td>-0.092769</td>\n",
              "      <td>-0.162302</td>\n",
              "      <td>-0.100002</td>\n",
              "      <td>-0.217238</td>\n",
              "      <td>-0.229283</td>\n",
              "      <td>0.032108</td>\n",
              "      <td>-0.001597</td>\n",
              "    </tr>\n",
              "    <tr>\n",
              "      <th>WindGustSpeed</th>\n",
              "      <td>0.302582</td>\n",
              "      <td>0.180401</td>\n",
              "      <td>0.054984</td>\n",
              "      <td>0.144200</td>\n",
              "      <td>1.000000</td>\n",
              "      <td>0.018639</td>\n",
              "      <td>0.121348</td>\n",
              "      <td>0.456296</td>\n",
              "      <td>0.652555</td>\n",
              "      <td>-0.290564</td>\n",
              "      <td>-0.030450</td>\n",
              "      <td>-0.435432</td>\n",
              "      <td>-0.401562</td>\n",
              "      <td>0.300600</td>\n",
              "      <td>0.137105</td>\n",
              "      <td>0.041511</td>\n",
              "      <td>0.159587</td>\n",
              "    </tr>\n",
              "    <tr>\n",
              "      <th>WindDir9am</th>\n",
              "      <td>-0.090129</td>\n",
              "      <td>-0.260912</td>\n",
              "      <td>0.084769</td>\n",
              "      <td>0.377825</td>\n",
              "      <td>0.018639</td>\n",
              "      <td>1.000000</td>\n",
              "      <td>0.228676</td>\n",
              "      <td>0.018123</td>\n",
              "      <td>0.073239</td>\n",
              "      <td>0.008815</td>\n",
              "      <td>0.105638</td>\n",
              "      <td>-0.009163</td>\n",
              "      <td>0.061495</td>\n",
              "      <td>-0.169702</td>\n",
              "      <td>-0.261601</td>\n",
              "      <td>0.058496</td>\n",
              "      <td>0.001400</td>\n",
              "    </tr>\n",
              "    <tr>\n",
              "      <th>WindDir3pm</th>\n",
              "      <td>-0.235031</td>\n",
              "      <td>-0.177085</td>\n",
              "      <td>0.026110</td>\n",
              "      <td>0.555587</td>\n",
              "      <td>0.121348</td>\n",
              "      <td>0.228676</td>\n",
              "      <td>1.000000</td>\n",
              "      <td>0.057060</td>\n",
              "      <td>0.056970</td>\n",
              "      <td>-0.114484</td>\n",
              "      <td>-0.210770</td>\n",
              "      <td>-0.150954</td>\n",
              "      <td>-0.086863</td>\n",
              "      <td>-0.232958</td>\n",
              "      <td>-0.168544</td>\n",
              "      <td>0.024938</td>\n",
              "      <td>-0.037352</td>\n",
              "    </tr>\n",
              "    <tr>\n",
              "      <th>WindSpeed9am</th>\n",
              "      <td>0.246077</td>\n",
              "      <td>-0.004651</td>\n",
              "      <td>0.067628</td>\n",
              "      <td>0.057342</td>\n",
              "      <td>0.456296</td>\n",
              "      <td>0.018123</td>\n",
              "      <td>0.057060</td>\n",
              "      <td>1.000000</td>\n",
              "      <td>0.353521</td>\n",
              "      <td>-0.308024</td>\n",
              "      <td>0.018458</td>\n",
              "      <td>-0.127793</td>\n",
              "      <td>-0.067084</td>\n",
              "      <td>0.174195</td>\n",
              "      <td>-0.015180</td>\n",
              "      <td>0.049792</td>\n",
              "      <td>0.053974</td>\n",
              "    </tr>\n",
              "    <tr>\n",
              "      <th>WindSpeed3pm</th>\n",
              "      <td>0.224725</td>\n",
              "      <td>0.033172</td>\n",
              "      <td>0.055848</td>\n",
              "      <td>0.081102</td>\n",
              "      <td>0.652555</td>\n",
              "      <td>0.073239</td>\n",
              "      <td>0.056970</td>\n",
              "      <td>0.353521</td>\n",
              "      <td>1.000000</td>\n",
              "      <td>-0.147515</td>\n",
              "      <td>0.114889</td>\n",
              "      <td>-0.262974</td>\n",
              "      <td>-0.219771</td>\n",
              "      <td>0.222843</td>\n",
              "      <td>0.003977</td>\n",
              "      <td>0.037195</td>\n",
              "      <td>0.046220</td>\n",
              "    </tr>\n",
              "    <tr>\n",
              "      <th>Humidity9am</th>\n",
              "      <td>-0.103819</td>\n",
              "      <td>-0.312767</td>\n",
              "      <td>0.234395</td>\n",
              "      <td>-0.104683</td>\n",
              "      <td>-0.290564</td>\n",
              "      <td>0.008815</td>\n",
              "      <td>-0.114484</td>\n",
              "      <td>-0.308024</td>\n",
              "      <td>-0.147515</td>\n",
              "      <td>1.000000</td>\n",
              "      <td>0.576454</td>\n",
              "      <td>0.186081</td>\n",
              "      <td>0.185117</td>\n",
              "      <td>-0.307095</td>\n",
              "      <td>-0.305569</td>\n",
              "      <td>0.159810</td>\n",
              "      <td>0.187373</td>\n",
              "    </tr>\n",
              "    <tr>\n",
              "      <th>Humidity3pm</th>\n",
              "      <td>0.220469</td>\n",
              "      <td>-0.374995</td>\n",
              "      <td>0.223447</td>\n",
              "      <td>-0.092769</td>\n",
              "      <td>-0.030450</td>\n",
              "      <td>0.105638</td>\n",
              "      <td>-0.210770</td>\n",
              "      <td>0.018458</td>\n",
              "      <td>0.114889</td>\n",
              "      <td>0.576454</td>\n",
              "      <td>1.000000</td>\n",
              "      <td>0.051359</td>\n",
              "      <td>0.117580</td>\n",
              "      <td>0.009621</td>\n",
              "      <td>-0.439088</td>\n",
              "      <td>0.148692</td>\n",
              "      <td>0.371577</td>\n",
              "    </tr>\n",
              "    <tr>\n",
              "      <th>Pressure9am</th>\n",
              "      <td>-0.423153</td>\n",
              "      <td>-0.380251</td>\n",
              "      <td>-0.061568</td>\n",
              "      <td>-0.162302</td>\n",
              "      <td>-0.435432</td>\n",
              "      <td>-0.009163</td>\n",
              "      <td>-0.150954</td>\n",
              "      <td>-0.127793</td>\n",
              "      <td>-0.262974</td>\n",
              "      <td>0.186081</td>\n",
              "      <td>0.051359</td>\n",
              "      <td>1.000000</td>\n",
              "      <td>0.963180</td>\n",
              "      <td>-0.440771</td>\n",
              "      <td>-0.340006</td>\n",
              "      <td>-0.045454</td>\n",
              "      <td>-0.125038</td>\n",
              "    </tr>\n",
              "    <tr>\n",
              "      <th>Pressure3pm</th>\n",
              "      <td>-0.385556</td>\n",
              "      <td>-0.441619</td>\n",
              "      <td>-0.018510</td>\n",
              "      <td>-0.100002</td>\n",
              "      <td>-0.401562</td>\n",
              "      <td>0.061495</td>\n",
              "      <td>-0.086863</td>\n",
              "      <td>-0.067084</td>\n",
              "      <td>-0.219771</td>\n",
              "      <td>0.185117</td>\n",
              "      <td>0.117580</td>\n",
              "      <td>0.963180</td>\n",
              "      <td>1.000000</td>\n",
              "      <td>-0.434634</td>\n",
              "      <td>-0.408971</td>\n",
              "      <td>-0.015754</td>\n",
              "      <td>-0.116641</td>\n",
              "    </tr>\n",
              "    <tr>\n",
              "      <th>Temp9am</th>\n",
              "      <td>0.900209</td>\n",
              "      <td>0.830424</td>\n",
              "      <td>-0.025890</td>\n",
              "      <td>-0.217238</td>\n",
              "      <td>0.300600</td>\n",
              "      <td>-0.169702</td>\n",
              "      <td>-0.232958</td>\n",
              "      <td>0.174195</td>\n",
              "      <td>0.222843</td>\n",
              "      <td>-0.307095</td>\n",
              "      <td>0.009621</td>\n",
              "      <td>-0.440771</td>\n",
              "      <td>-0.434634</td>\n",
              "      <td>1.000000</td>\n",
              "      <td>0.796070</td>\n",
              "      <td>-0.018138</td>\n",
              "      <td>0.047336</td>\n",
              "    </tr>\n",
              "    <tr>\n",
              "      <th>Temp3pm</th>\n",
              "      <td>0.630106</td>\n",
              "      <td>0.979864</td>\n",
              "      <td>-0.128735</td>\n",
              "      <td>-0.229283</td>\n",
              "      <td>0.137105</td>\n",
              "      <td>-0.261601</td>\n",
              "      <td>-0.168544</td>\n",
              "      <td>-0.015180</td>\n",
              "      <td>0.003977</td>\n",
              "      <td>-0.305569</td>\n",
              "      <td>-0.439088</td>\n",
              "      <td>-0.340006</td>\n",
              "      <td>-0.408971</td>\n",
              "      <td>0.796070</td>\n",
              "      <td>1.000000</td>\n",
              "      <td>-0.085307</td>\n",
              "      <td>-0.118459</td>\n",
              "    </tr>\n",
              "    <tr>\n",
              "      <th>RainToday</th>\n",
              "      <td>0.052507</td>\n",
              "      <td>-0.082594</td>\n",
              "      <td>0.852107</td>\n",
              "      <td>0.032108</td>\n",
              "      <td>0.041511</td>\n",
              "      <td>0.058496</td>\n",
              "      <td>0.024938</td>\n",
              "      <td>0.049792</td>\n",
              "      <td>0.037195</td>\n",
              "      <td>0.159810</td>\n",
              "      <td>0.148692</td>\n",
              "      <td>-0.045454</td>\n",
              "      <td>-0.015754</td>\n",
              "      <td>-0.018138</td>\n",
              "      <td>-0.085307</td>\n",
              "      <td>1.000000</td>\n",
              "      <td>0.094845</td>\n",
              "    </tr>\n",
              "    <tr>\n",
              "      <th>RainTomorrow</th>\n",
              "      <td>0.127483</td>\n",
              "      <td>-0.079360</td>\n",
              "      <td>0.138552</td>\n",
              "      <td>-0.001597</td>\n",
              "      <td>0.159587</td>\n",
              "      <td>0.001400</td>\n",
              "      <td>-0.037352</td>\n",
              "      <td>0.053974</td>\n",
              "      <td>0.046220</td>\n",
              "      <td>0.187373</td>\n",
              "      <td>0.371577</td>\n",
              "      <td>-0.125038</td>\n",
              "      <td>-0.116641</td>\n",
              "      <td>0.047336</td>\n",
              "      <td>-0.118459</td>\n",
              "      <td>0.094845</td>\n",
              "      <td>1.000000</td>\n",
              "    </tr>\n",
              "  </tbody>\n",
              "</table>\n",
              "</div>"
            ],
            "text/plain": [
              "                MinTemp   MaxTemp  Rainfall  ...   Temp3pm  RainToday  RainTomorrow\n",
              "MinTemp        1.000000  0.665325  0.081253  ...  0.630106   0.052507      0.127483\n",
              "MaxTemp        0.665325  1.000000 -0.125047  ...  0.979864  -0.082594     -0.079360\n",
              "Rainfall       0.081253 -0.125047  1.000000  ... -0.128735   0.852107      0.138552\n",
              "WindGustDir   -0.194322 -0.226375  0.041034  ... -0.229283   0.032108     -0.001597\n",
              "WindGustSpeed  0.302582  0.180401  0.054984  ...  0.137105   0.041511      0.159587\n",
              "WindDir9am    -0.090129 -0.260912  0.084769  ... -0.261601   0.058496      0.001400\n",
              "WindDir3pm    -0.235031 -0.177085  0.026110  ... -0.168544   0.024938     -0.037352\n",
              "WindSpeed9am   0.246077 -0.004651  0.067628  ... -0.015180   0.049792      0.053974\n",
              "WindSpeed3pm   0.224725  0.033172  0.055848  ...  0.003977   0.037195      0.046220\n",
              "Humidity9am   -0.103819 -0.312767  0.234395  ... -0.305569   0.159810      0.187373\n",
              "Humidity3pm    0.220469 -0.374995  0.223447  ... -0.439088   0.148692      0.371577\n",
              "Pressure9am   -0.423153 -0.380251 -0.061568  ... -0.340006  -0.045454     -0.125038\n",
              "Pressure3pm   -0.385556 -0.441619 -0.018510  ... -0.408971  -0.015754     -0.116641\n",
              "Temp9am        0.900209  0.830424 -0.025890  ...  0.796070  -0.018138      0.047336\n",
              "Temp3pm        0.630106  0.979864 -0.128735  ...  1.000000  -0.085307     -0.118459\n",
              "RainToday      0.052507 -0.082594  0.852107  ... -0.085307   1.000000      0.094845\n",
              "RainTomorrow   0.127483 -0.079360  0.138552  ... -0.118459   0.094845      1.000000\n",
              "\n",
              "[17 rows x 17 columns]"
            ]
          },
          "metadata": {
            "tags": []
          },
          "execution_count": 148
        }
      ]
    },
    {
      "cell_type": "code",
      "metadata": {
        "id": "pBpOjvnJvbv8",
        "colab": {
          "base_uri": "https://localhost:8080/"
        },
        "outputId": "f873eeb9-d5fa-4698-df87-7ae1bb5d3dfd"
      },
      "source": [
        "from yellowbrick.target import FeatureCorrelation\n",
        "feature_names = list(features.columns)\n",
        "visualizer = FeatureCorrelation(labels = feature_names)\n",
        "visualizer.fit(features, target)\n",
        "visualizer.poof()"
      ],
      "execution_count": null,
      "outputs": [
        {
          "output_type": "stream",
          "text": [
            "/usr/local/lib/python3.7/dist-packages/sklearn/base.py:197: FutureWarning: From version 0.24, get_params will raise an AttributeError if a parameter cannot be retrieved as an instance attribute. Previously it would return None.\n",
            "  FutureWarning)\n"
          ],
          "name": "stderr"
        },
        {
          "output_type": "display_data",
          "data": {
            "image/png": "[encoded data removed]",
            "text/plain": [
              "<Figure size 576x396 with 1 Axes>"
            ]
          },
          "metadata": {
            "tags": []
          }
        }
      ]
    },
    {
      "cell_type": "code",
      "metadata": {
        "id": "6BLxQ5KcVztI"
      },
      "source": [],
      "execution_count": null,
      "outputs": []
    },
    {
      "cell_type": "markdown",
      "metadata": {
        "id": "BsSlsaSA2m9e"
      },
      "source": [
        "# **4. Ensemble Learning**"
      ]
    },
    {
      "cell_type": "markdown",
      "metadata": {
        "id": "ednUs7LJYXv8"
      },
      "source": [
        "# BAGGING"
      ]
    },
    {
      "cell_type": "code",
      "metadata": {
        "id": "jF5O8emCYj_y",
        "colab": {
          "base_uri": "https://localhost:8080/"
        },
        "outputId": "1c4c3abe-80c1-479e-fa92-55f0442dfdb3"
      },
      "source": [
        "# Create the base classifier\n",
        "\n",
        "knn = KNeighborsClassifier(n_neighbors = 24)\n",
        "bnb = BernoulliNB(binarize = 0.0)\n",
        "dtree = DecisionTreeClassifier(criterion='entropy', splitter = 'random')\n",
        "\n",
        "bases = [knn, bnb, dtree]\n",
        "\n",
        "# Create the bagging classifier\n",
        "for base in bases:\n",
        "  model_bagging = BaggingClassifier(base_estimator = base, n_estimators = 10, random_state = 0)\n",
        "  # Use 10-fold cross validation to perform training and validation on the training set\n",
        "  # Parameter scoring = 'accuracy' will compute accuracy\n",
        "  scores = cross_val_score(model_bagging, x_train_new, y_train_new, cv = 10, scoring = 'accuracy')\n",
        "  # Display the array containing accuracy from 10 folds or iterations\n",
        "  print(base)\n",
        "  # Print the mean accuracy score\n",
        "  print('Accuracy (Validation) =', scores.mean())\n",
        "\n",
        "  # Running prediction\n",
        "  model_bagging.fit(x_train_new, y_train_new)\n",
        "  # Predict the target for the test dataset\n",
        "  test_predict = model_bagging.predict(x_test)\n",
        "  # Compute the model accuracy on the test set\n",
        "  print(\"Accuracy (Test): \", metrics.accuracy_score(y_test, test_predict))\n",
        "\n",
        "  print('-'*60)"
      ],
      "execution_count": null,
      "outputs": [
        {
          "output_type": "stream",
          "text": [
            "KNeighborsClassifier(algorithm='auto', leaf_size=30, metric='minkowski',\n",
            "                     metric_params=None, n_jobs=None, n_neighbors=24, p=2,\n",
            "                     weights='uniform')\n",
            "Accuracy (Validation) = 0.8705955512524195\n",
            "Accuracy (Test):  0.859245960502693\n",
            "------------------------------------------------------------\n",
            "BernoulliNB(alpha=1.0, binarize=0.0, class_prior=None, fit_prior=True)\n",
            "Accuracy (Validation) = 0.8430360541711442\n",
            "Accuracy (Test):  0.8341113105924596\n",
            "------------------------------------------------------------\n",
            "DecisionTreeClassifier(ccp_alpha=0.0, class_weight=None, criterion='entropy',\n",
            "                       max_depth=None, max_features=None, max_leaf_nodes=None,\n",
            "                       min_impurity_decrease=0.0, min_impurity_split=None,\n",
            "                       min_samples_leaf=1, min_samples_split=2,\n",
            "                       min_weight_fraction_leaf=0.0, presort='deprecated',\n",
            "                       random_state=None, splitter='random')\n",
            "Accuracy (Validation) = 0.868710432354997\n",
            "Accuracy (Test):  0.8570915619389587\n",
            "------------------------------------------------------------\n"
          ],
          "name": "stdout"
        }
      ]
    },
    {
      "cell_type": "markdown",
      "metadata": {
        "id": "2gk_IbceZ9GN"
      },
      "source": [
        "# BOOSTING"
      ]
    },
    {
      "cell_type": "code",
      "metadata": {
        "id": "kg2r43qJZu8S",
        "colab": {
          "base_uri": "https://localhost:8080/"
        },
        "outputId": "ed3a747a-2f74-4b7b-b786-b804a5344caf"
      },
      "source": [
        "# Create the base classifier\n",
        "bnb = BernoulliNB(binarize = 0.0)\n",
        "dtree = DecisionTreeClassifier(criterion='entropy', splitter = 'random')\n",
        "\n",
        "bases = [bnb, dtree]\n",
        "for base in bases:\n",
        "  # Create the AdaBoost classifier\n",
        "  model_boosting = AdaBoostClassifier(base_estimator = base, n_estimators = 10, random_state = 0)\n",
        "  # Use 10-fold cross validation to perform training and validation on the training set\n",
        "  # Parameter scoring = 'accuracy' will compute accuracy\n",
        "  scores = cross_val_score(model_boosting, x_train_new, y_train_new, cv = 10, scoring = 'accuracy')\n",
        "  # Display the array containing accuracy from 10 folds or iterations\n",
        "  print('base: ',base)\n",
        "  print(scores)\n",
        "  # Print the mean accuracy score\n",
        "  print('Accuracy (Validation) =', scores.mean())\n",
        "\n",
        "  model_boosting.fit(x_train_new, y_train_new)\n",
        "  # Predict the target for the test dataset\n",
        "  test_predict = model_boosting.predict(x_test)\n",
        "  # Compute the model accuracy on the test set\n",
        "  print(\"Accuracy (Test): \", metrics.accuracy_score(y_test, test_predict))\n",
        "  print('-'*60)"
      ],
      "execution_count": null,
      "outputs": [
        {
          "output_type": "stream",
          "text": [
            "base:  BernoulliNB(alpha=1.0, binarize=0.0, class_prior=None, fit_prior=True)\n",
            "[0.15664273 0.15664273 0.15709156 0.15709156 0.15709156 0.15709156\n",
            " 0.15709156 0.15709156 0.15709156 0.15671307]\n",
            "Accuracy (Validation) = 0.15696394582885576\n",
            "Accuracy (Test):  0.1658886894075404\n",
            "------------------------------------------------------------\n",
            "base:  DecisionTreeClassifier(ccp_alpha=0.0, class_weight=None, criterion='entropy',\n",
            "                       max_depth=None, max_features=None, max_leaf_nodes=None,\n",
            "                       min_impurity_decrease=0.0, min_impurity_split=None,\n",
            "                       min_samples_leaf=1, min_samples_split=2,\n",
            "                       min_weight_fraction_leaf=0.0, presort='deprecated',\n",
            "                       random_state=None, splitter='random')\n",
            "[0.78815081 0.8043088  0.80520646 0.80610413 0.81014363 0.79712747\n",
            " 0.81149013 0.80745063 0.80655296 0.80871127]\n",
            "Accuracy (Validation) = 0.8045246279744511\n",
            "Accuracy (Test):  0.8053859964093357\n",
            "------------------------------------------------------------\n"
          ],
          "name": "stdout"
        }
      ]
    },
    {
      "cell_type": "markdown",
      "metadata": {
        "id": "m27I6oSnaNaW"
      },
      "source": [
        "# VOTING"
      ]
    },
    {
      "cell_type": "code",
      "metadata": {
        "id": "7BCiuq8naQ1E",
        "colab": {
          "base_uri": "https://localhost:8080/"
        },
        "outputId": "76c116b9-d929-4b79-9d0f-198ef6591dab"
      },
      "source": [
        "# Create the base classifiers\n",
        "knn = KNeighborsClassifier(n_neighbors = 24)\n",
        "bnb = BernoulliNB(binarize = 0.0)\n",
        "dtree = DecisionTreeClassifier(criterion='entropy', splitter = 'random')\n",
        "# Create VotingClassifier\n",
        "model_voting = VotingClassifier(estimators = [('bnb', bnb), ('dtree', dtree), ('knn', knn)], voting = 'hard')\n",
        "# Use 10-fold cross validation to perform training and validation on the training set\n",
        "# Parameter scoring = 'accuracy' will compute accuracy\n",
        "scores = cross_val_score(model_voting, x_train_new, y_train_new, cv = 10, scoring = 'accuracy')\n",
        "# Display the array containing accuracy from 10 folds or iterations\n",
        "print(scores)\n",
        "print('-'*60)\n",
        "# Print the mean accuracy score\n",
        "print('Accuracy (Validation) =', scores.mean())\n",
        "\n",
        "# Running prediction\n",
        "model_voting.fit(x_train_new, y_train_new)\n",
        "# Predict the target for the test dataset\n",
        "test_predict = model_voting.predict(x_test)\n",
        "# Compute the model accuracy on the test set\n",
        "print(\"Accuracy (Test): \", metrics.accuracy_score(y_test, test_predict))"
      ],
      "execution_count": null,
      "outputs": [
        {
          "output_type": "stream",
          "text": [
            "[0.86535009 0.86535009 0.86669659 0.86894075 0.87208259 0.86400359\n",
            " 0.86131059 0.86535009 0.86400359 0.86933094]\n",
            "------------------------------------------------------------\n",
            "Accuracy (Validation) = 0.8662418909756948\n",
            "Accuracy (Test):  0.8535008976660682\n"
          ],
          "name": "stdout"
        }
      ]
    },
    {
      "cell_type": "markdown",
      "metadata": {
        "id": "N6JXSshDcc8q"
      },
      "source": [
        "# STACKING"
      ]
    },
    {
      "cell_type": "code",
      "metadata": {
        "id": "nA1ncI2mcj5M",
        "colab": {
          "base_uri": "https://localhost:8080/",
          "height": 229
        },
        "outputId": "011d20da-e913-41f8-c4ef-fb02e02bdc16"
      },
      "source": [
        "# Create the base classifiers\n",
        "knn = KNeighborsClassifier(n_neighbors = 24)\n",
        "bnb = BernoulliNB(binarize = 0.0)\n",
        "dtree = DecisionTreeClassifier(criterion='entropy', splitter = 'random')\n",
        "\n",
        "final_estimator = [knn, bnb, dtree]\n",
        "\n",
        "for final_estimator in final_estimator:\n",
        "  # Create StackingClassifier\n",
        "  model_stacking = StackingClassifier(estimators = [('gnb', gnb), ('dtree', dtree), ('knn', knn)], final_estimator = final_estimator)\n",
        "  # Use 10-fold cross validation to perform training and validation on the training set\n",
        "  # Parameter scoring = 'accuracy' will compute accuracy\n",
        "  scores = cross_val_score(model_stacking, x_train_new, y_train_new, cv = 10, scoring = 'accuracy')\n",
        "  # Display the array containing accuracy from 10 folds or iterations\n",
        "  print(estimator)\n",
        "  # Print the mean accuracy score\n",
        "  print('Accuracy (Validation) =', scores.mean())\n",
        "  # Running prediction\n",
        "  model_stacking.fit(x_train_new, y_train_new)\n",
        "  # Predict the target for the test dataset\n",
        "  test_predict = model_stacking.predict(x_test)\n",
        "  # Compute the model accuracy on the test set\n",
        "  print(\"Accuracy (Test): \", metrics.accuracy_score(y_test, test_predict))\n",
        "  print('-'*60)"
      ],
      "execution_count": null,
      "outputs": [
        {
          "output_type": "error",
          "ename": "NameError",
          "evalue": "ignored",
          "traceback": [
            "\u001b[0;31m---------------------------------------------------------------------------\u001b[0m",
            "\u001b[0;31mNameError\u001b[0m                                 Traceback (most recent call last)",
            "\u001b[0;32m<ipython-input-1-94effe642b68>\u001b[0m in \u001b[0;36m<module>\u001b[0;34m()\u001b[0m\n\u001b[1;32m      1\u001b[0m \u001b[0;31m# Create the base classifiers\u001b[0m\u001b[0;34m\u001b[0m\u001b[0;34m\u001b[0m\u001b[0;34m\u001b[0m\u001b[0m\n\u001b[0;32m----> 2\u001b[0;31m \u001b[0mknn\u001b[0m \u001b[0;34m=\u001b[0m \u001b[0mKNeighborsClassifier\u001b[0m\u001b[0;34m(\u001b[0m\u001b[0mn_neighbors\u001b[0m \u001b[0;34m=\u001b[0m \u001b[0;36m24\u001b[0m\u001b[0;34m)\u001b[0m\u001b[0;34m\u001b[0m\u001b[0;34m\u001b[0m\u001b[0m\n\u001b[0m\u001b[1;32m      3\u001b[0m \u001b[0mbnb\u001b[0m \u001b[0;34m=\u001b[0m \u001b[0mBernoulliNB\u001b[0m\u001b[0;34m(\u001b[0m\u001b[0mbinarize\u001b[0m \u001b[0;34m=\u001b[0m \u001b[0;36m0.0\u001b[0m\u001b[0;34m)\u001b[0m\u001b[0;34m\u001b[0m\u001b[0;34m\u001b[0m\u001b[0m\n\u001b[1;32m      4\u001b[0m \u001b[0mdtree\u001b[0m \u001b[0;34m=\u001b[0m \u001b[0mDecisionTreeClassifier\u001b[0m\u001b[0;34m(\u001b[0m\u001b[0mcriterion\u001b[0m\u001b[0;34m=\u001b[0m\u001b[0;34m'entropy'\u001b[0m\u001b[0;34m,\u001b[0m \u001b[0msplitter\u001b[0m \u001b[0;34m=\u001b[0m \u001b[0;34m'random'\u001b[0m\u001b[0;34m)\u001b[0m\u001b[0;34m\u001b[0m\u001b[0;34m\u001b[0m\u001b[0m\n\u001b[1;32m      5\u001b[0m \u001b[0;34m\u001b[0m\u001b[0m\n",
            "\u001b[0;31mNameError\u001b[0m: name 'KNeighborsClassifier' is not defined"
          ]
        }
      ]
    }
  ]
}